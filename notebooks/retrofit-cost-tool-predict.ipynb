{
 "cells": [
  {
   "cell_type": "markdown",
   "id": "0260667e-85e9-40df-9b52-0edc4116e145",
   "metadata": {},
   "source": [
    "# Retrofit cost tool: predictions with user data"
   ]
  },
  {
   "cell_type": "code",
   "execution_count": 1,
   "id": "27fbe4c9-7e7c-4031-969b-d4e203bf30ae",
   "metadata": {},
   "outputs": [],
   "source": [
    "import sys\n",
    "import os\n",
    "from retrofit_cost_tool import load_data, preprocess_data, predict, plot_predictions\n",
    "import ipywidgets as widgets\n",
    "from IPython.display import display\n",
    "import pandas as pd"
   ]
  },
  {
   "cell_type": "code",
   "execution_count": 2,
   "id": "d7ca798d-2f50-466b-94fd-2ca942d060af",
   "metadata": {},
   "outputs": [
    {
     "name": "stdout",
     "output_type": "stream",
     "text": [
      "✅ Generated 500 predictions using packaged data\n",
      "Sample predictions: [49.58660427 24.03577805 50.29262299 34.32240819 79.20934291]\n"
     ]
    }
   ],
   "source": [
    "# Test prediction with packaged data\n",
    "from importlib import resources\n",
    "\n",
    "# Load the packaged synthetic data directly\n",
    "with resources.path('retrofit_cost_tool.data', 'synthetic_data.csv') as data_path:\n",
    "    data = load_data(str(data_path))\n",
    "\n",
    "# Make predictions using the predict function\n",
    "predictions = predict(data, model_name='best_model')\n",
    "\n",
    "if predictions is not None:\n",
    "    print(f\"✅ Generated {len(predictions)} predictions using packaged data\")\n",
    "    print(f\"Sample predictions: {predictions[:5]}\")\n",
    "else:\n",
    "    print(\"❌ Prediction failed\")"
   ]
  },
  {
   "cell_type": "code",
   "execution_count": 3,
   "id": "47bf1705-e278-4d90-8f9d-e4f5c38d72b6",
   "metadata": {},
   "outputs": [
    {
     "name": "stdout",
     "output_type": "stream",
     "text": [
      "✅ Predictions from packaged data:\n",
      "   Predicted     Actual\n",
      "0  49.586604   8.077504\n",
      "1  24.035778  17.573217\n",
      "2  50.292623   7.616414\n",
      "3  34.322408  74.594776\n",
      "4  79.209343  70.745681\n"
     ]
    }
   ],
   "source": [
    "predictions_df = pd.DataFrame({'Predicted': predictions, 'Actual': data['ystruct19']})\n",
    "print(\"✅ Predictions from packaged data:\")\n",
    "print(predictions_df.head())"
   ]
  },
  {
   "cell_type": "code",
   "execution_count": 4,
   "id": "b23f269b-d737-444d-9ae4-6ef7004ae17f",
   "metadata": {},
   "outputs": [],
   "source": [
    "# Create widgets\n",
    "file_uploader = widgets.FileUpload(\n",
    "    description='Upload data file',\n",
    "    accept='.csv'\n",
    ")\n",
    "\n",
    "model_selector = widgets.Dropdown(\n",
    "    options=['ridge_model', 'elastic_net_model', 'random_forest_model', \n",
    "             'gradient_boosting_model', 'ols_model', 'glm_gamma_model', 'best_model'],\n",
    "    value='best_model',\n",
    "    description='Select model:',\n",
    ")\n",
    "\n",
    "predict_button = widgets.Button(description='Make Predictions')\n",
    "plot_button = widgets.Button(description='Plot Predictions')\n",
    "save_plots_checkbox = widgets.Checkbox(value=False, description='Save plots')\n",
    "\n",
    "# Global variable to store predictions\n",
    "predictions_and_actuals = None\n",
    "\n",
    "output = widgets.Output()\n",
    "\n",
    "def on_button_click(b):\n",
    "    global predictions_and_actuals  # Add this line\n",
    "    with output:\n",
    "        output.clear_output(wait=True)\n",
    "        if file_uploader.value:\n",
    "            # Process uploaded file\n",
    "            file_name = file_uploader.value[0]['name']\n",
    "            file_content = file_uploader.value[0]['content']\n",
    "            with open(file_name, 'wb') as f:\n",
    "                f.write(file_content.tobytes())\n",
    "            \n",
    "            data = load_data(file_name)\n",
    "            target = list(data.columns)[-1]\n",
    "            predictions = predict(data, model_name=model_selector.value)\n",
    "            actual_values = data[target]\n",
    "            \n",
    "            predictions_df = pd.DataFrame({'Predicted': predictions, 'Actual': actual_values})\n",
    "            predictions_and_actuals = (predictions_df, actual_values)  # Set the global variable\n",
    "            \n",
    "            print(\"✅ Predictions from uploaded file:\")\n",
    "            print(predictions_df.head())\n",
    "            print(\"\\nSummary Statistics:\")\n",
    "            print(predictions_df['Predicted'].describe())\n",
    "        else:\n",
    "            print(\"Please upload a CSV file first\")\n",
    "\n",
    "def on_plot_button_click(b):\n",
    "    global predictions_and_actuals\n",
    "    if predictions_and_actuals is not None:\n",
    "        predictions_df, actual_values = predictions_and_actuals\n",
    "        with output:\n",
    "            try:\n",
    "                # Pass the DataFrame directly - it already has 'Predicted' and 'Actual' columns\n",
    "                plot_predictions(predictions_df, actual_values, save_plots=save_plots_checkbox.value)\n",
    "            except Exception as e:\n",
    "                print(f\"Plotting error: {e}\")\n",
    "                # Try with explicit column access\n",
    "                try:\n",
    "                    plot_predictions(predictions_df['Predicted'], predictions_df['Actual'], save_plots=save_plots_checkbox.value)\n",
    "                except Exception as e2:\n",
    "                    print(f\"Alternative plotting also failed: {e2}\")\n",
    "                    import traceback\n",
    "                    traceback.print_exc()\n",
    "    else:\n",
    "        with output:\n",
    "            print(\"Please make predictions first\")\n",
    "\n",
    "\n",
    "predict_button.on_click(on_button_click)\n",
    "plot_button.on_click(on_plot_button_click)"
   ]
  },
  {
   "cell_type": "code",
   "execution_count": 5,
   "id": "d450d5be-e1d1-4255-b28c-dd733a3e6953",
   "metadata": {},
   "outputs": [
    {
     "data": {
      "application/vnd.jupyter.widget-view+json": {
       "model_id": "c096e4540ae9471e846b6178398ccb56",
       "version_major": 2,
       "version_minor": 0
      },
      "text/plain": [
       "FileUpload(value=(), accept='.csv', description='Upload data file')"
      ]
     },
     "metadata": {},
     "output_type": "display_data"
    },
    {
     "data": {
      "application/vnd.jupyter.widget-view+json": {
       "model_id": "224715d0082c47d09849aeab61cc8402",
       "version_major": 2,
       "version_minor": 0
      },
      "text/plain": [
       "Dropdown(description='Select model:', index=6, options=('ridge_model', 'elastic_net_model', 'random_forest_mod…"
      ]
     },
     "metadata": {},
     "output_type": "display_data"
    },
    {
     "data": {
      "application/vnd.jupyter.widget-view+json": {
       "model_id": "3cf5567de9bc42f5bfdfbfa7eacc4d6d",
       "version_major": 2,
       "version_minor": 0
      },
      "text/plain": [
       "Button(description='Make Predictions', style=ButtonStyle())"
      ]
     },
     "metadata": {},
     "output_type": "display_data"
    },
    {
     "data": {
      "application/vnd.jupyter.widget-view+json": {
       "model_id": "5571b1197409472f8f0519a0888d77c8",
       "version_major": 2,
       "version_minor": 0
      },
      "text/plain": [
       "Output()"
      ]
     },
     "metadata": {},
     "output_type": "display_data"
    },
    {
     "data": {
      "application/vnd.jupyter.widget-view+json": {
       "model_id": "de696480daad4cc6a43843036b246be1",
       "version_major": 2,
       "version_minor": 0
      },
      "text/plain": [
       "Button(description='Plot Predictions', style=ButtonStyle())"
      ]
     },
     "metadata": {},
     "output_type": "display_data"
    },
    {
     "data": {
      "application/vnd.jupyter.widget-view+json": {
       "model_id": "29420ba9310e4e2386efac67999391ed",
       "version_major": 2,
       "version_minor": 0
      },
      "text/plain": [
       "Checkbox(value=False, description='Save plots')"
      ]
     },
     "metadata": {},
     "output_type": "display_data"
    }
   ],
   "source": [
    "# Display widgets\n",
    "display(file_uploader)\n",
    "display(model_selector)\n",
    "display(predict_button)\n",
    "display(output)\n",
    "display(plot_button)\n",
    "display(save_plots_checkbox)"
   ]
  }
 ],
 "metadata": {
  "jupytext": {
   "formats": "ipynb,py:percent"
  },
  "kernelspec": {
   "display_name": "Python [conda env:test-retrofits]",
   "language": "python",
   "name": "conda-env-test-retrofits-py"
  },
  "language_info": {
   "codemirror_mode": {
    "name": "ipython",
    "version": 3
   },
   "file_extension": ".py",
   "mimetype": "text/x-python",
   "name": "python",
   "nbconvert_exporter": "python",
   "pygments_lexer": "ipython3",
   "version": "3.12.11"
  }
 },
 "nbformat": 4,
 "nbformat_minor": 5
}
