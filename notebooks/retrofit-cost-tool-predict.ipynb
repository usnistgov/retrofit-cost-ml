{
 "cells": [
  {
   "cell_type": "markdown",
   "id": "0260667e-85e9-40df-9b52-0edc4116e145",
   "metadata": {},
   "source": [
    "# Retrofit cost tool: predictions with user data"
   ]
  },
  {
   "cell_type": "code",
   "execution_count": 1,
   "id": "27fbe4c9-7e7c-4031-969b-d4e203bf30ae",
   "metadata": {},
   "outputs": [
    {
     "ename": "ModuleNotFoundError",
     "evalue": "No module named 'retrofit_cost_tool'",
     "output_type": "error",
     "traceback": [
      "\u001b[31m---------------------------------------------------------------------------\u001b[39m",
      "\u001b[31mModuleNotFoundError\u001b[39m                       Traceback (most recent call last)",
      "\u001b[36mCell\u001b[39m\u001b[36m \u001b[39m\u001b[32mIn[1]\u001b[39m\u001b[32m, line 3\u001b[39m\n\u001b[32m      1\u001b[39m \u001b[38;5;28;01mimport\u001b[39;00m\u001b[38;5;250m \u001b[39m\u001b[34;01msys\u001b[39;00m\n\u001b[32m      2\u001b[39m \u001b[38;5;28;01mimport\u001b[39;00m\u001b[38;5;250m \u001b[39m\u001b[34;01mos\u001b[39;00m\n\u001b[32m----> \u001b[39m\u001b[32m3\u001b[39m \u001b[38;5;28;01mfrom\u001b[39;00m\u001b[38;5;250m \u001b[39m\u001b[34;01mretrofit_cost_tool\u001b[39;00m\u001b[38;5;250m \u001b[39m\u001b[38;5;28;01mimport\u001b[39;00m load_data, preprocess_data, predict, plot_predictions\n\u001b[32m      4\u001b[39m \u001b[38;5;28;01mimport\u001b[39;00m\u001b[38;5;250m \u001b[39m\u001b[34;01mipywidgets\u001b[39;00m\u001b[38;5;250m \u001b[39m\u001b[38;5;28;01mas\u001b[39;00m\u001b[38;5;250m \u001b[39m\u001b[34;01mwidgets\u001b[39;00m\n\u001b[32m      5\u001b[39m \u001b[38;5;28;01mfrom\u001b[39;00m\u001b[38;5;250m \u001b[39m\u001b[34;01mIPython\u001b[39;00m\u001b[34;01m.\u001b[39;00m\u001b[34;01mdisplay\u001b[39;00m\u001b[38;5;250m \u001b[39m\u001b[38;5;28;01mimport\u001b[39;00m display\n",
      "\u001b[31mModuleNotFoundError\u001b[39m: No module named 'retrofit_cost_tool'"
     ]
    }
   ],
   "source": [
    "import sys\n",
    "import os\n",
    "from retrofit_cost_tool import load_data, preprocess_data, predict, plot_predictions\n",
    "import ipywidgets as widgets\n",
    "from IPython.display import display\n",
    "import pandas as pd"
   ]
  },
  {
   "cell_type": "code",
   "execution_count": null,
   "id": "a4317b8d-c845-41a6-ad9f-14c88e91dc59",
   "metadata": {},
   "outputs": [],
   "source": [
    "# Create a file uploader widget\n",
    "file_uploader = widgets.FileUpload(\n",
    "    description='Upload data file',\n",
    "    accept='.csv'\n",
    ")"
   ]
  },
  {
   "cell_type": "code",
   "execution_count": null,
   "id": "3b405292-5ad7-4c3a-9306-1309eac24800",
   "metadata": {},
   "outputs": [],
   "source": [
    "# Create a dropdown widget for model selection\n",
    "model_selector = widgets.Dropdown(\n",
    "    options=['ridge', 'elastic_net', 'random_forest', 'gradient_boosting', 'ols', 'glm_gamma', 'best_model'],\n",
    "    value='best_model',\n",
    "    description='Select model:',\n",
    "    disabled=False\n",
    ")"
   ]
  },
  {
   "cell_type": "code",
   "execution_count": null,
   "id": "6aeed7b4-cfa5-4b86-99bd-d5b80c25ff14",
   "metadata": {},
   "outputs": [],
   "source": [
    "# Create a button widget to trigger prediction\n",
    "predict_button = widgets.Button(description='Make Predictions')\n",
    "\n",
    "# Create a button widget to trigger plotting\n",
    "plot_button = widgets.Button(description='Plot Predictions')\n",
    "\n",
    "# Create a checkbox widget to save plots\n",
    "save_plots_checkbox = widgets.Checkbox(value=False, description='Save plots')\n",
    "\n",
    "predictions_and_actuals = None"
   ]
  },
  {
   "cell_type": "code",
   "execution_count": null,
   "id": "ac7f6c06-9c7e-4af2-8f5a-0b3620f476ff",
   "metadata": {},
   "outputs": [],
   "source": [
    "output = widgets.Output()"
   ]
  },
  {
   "cell_type": "code",
   "execution_count": null,
   "id": "02994dd6-1573-4223-baed-0d1f966d0ab0",
   "metadata": {},
   "outputs": [],
   "source": [
    "# In your notebook, replace the predict call with:\n",
    "def on_button_click(b):\n",
    "    with output:\n",
    "        output.clear_output(wait=True)\n",
    "        global predictions_and_actuals\n",
    "        file_name = file_uploader.value[0]['name']\n",
    "        file_content = file_uploader.value[0]['content']\n",
    "        with open(file_name, 'wb') as f:\n",
    "            f.write(file_content.tobytes())\n",
    "        \n",
    "        # Load and predict using the updated functions\n",
    "        data = load_data(file_name)\n",
    "        target = list(data.columns)[-1]  # assume target is the last column\n",
    "        \n",
    "        # Use the predict function from the module\n",
    "        predictions = predict(data, model_name=model_selector.value)\n",
    "        actual_values = data[target]\n",
    "        predictions_df = pd.DataFrame({'Predicted': predictions, 'Actual': actual_values})\n",
    "        predictions_and_actuals = (predictions_df, actual_values)\n",
    "        print(predictions_df.head())\n",
    "        print(\"\\nSummary Statistics:\")\n",
    "        print(predictions_df['Predicted'].describe())"
   ]
  },
  {
   "cell_type": "code",
   "execution_count": null,
   "id": "5401da1c-61f0-4cc6-871a-e6f32609d216",
   "metadata": {},
   "outputs": [],
   "source": []
  },
  {
   "cell_type": "code",
   "execution_count": 2,
   "id": "40173c40-1934-4798-be51-d648380e072a",
   "metadata": {},
   "outputs": [],
   "source": [
    "def on_button_click(b):\n",
    "    with output:\n",
    "        output.clear_output(wait=True)\n",
    "        #print(\"Make predictions button clicked\")\n",
    "        global predictions_and_actuals\n",
    "        file_name = file_uploader.value[0]['name']\n",
    "        file_content = file_uploader.value[0]['content']\n",
    "        with open(file_name, 'wb') as f:\n",
    "            f.write(file_content.tobytes())\n",
    "        data = load_data(file_name)\n",
    "        target = list(data.columns)[-1]  # assume target is the last column\n",
    "        predictions = predict(data, model_name=model_selector.value)\n",
    "        actual_values = data[target]\n",
    "        predictions_df = pd.DataFrame({'Predicted': predictions, 'Actual': actual_values})\n",
    "        predictions_and_actuals = (predictions_df, actual_values)\n",
    "        print(predictions_df.head())\n",
    "        print(\"\\nSummary Statistics:\")\n",
    "        print(predictions_df['Predicted'].describe())\n",
    "\n"
   ]
  },
  {
   "cell_type": "code",
   "execution_count": null,
   "id": "e4494c74-8a9b-4135-92f4-0b9d3c99b81b",
   "metadata": {},
   "outputs": [],
   "source": [
    "def on_plot_button_click(b):\n",
    "    global predictions_and_actuals\n",
    "    if predictions_and_actuals is not None:\n",
    "        predictions_df, actual_values = predictions_and_actuals\n",
    "        with output:\n",
    "            #output.clear_output(wait=True)\n",
    "            plot_predictions(predictions_df, actual_values, save_plots=False)\n",
    "    else:\n",
    "        with output:\n",
    "            output.clear_output(wait=True)\n",
    "            print(\"Please make predictions first\")"
   ]
  },
  {
   "cell_type": "code",
   "execution_count": null,
   "id": "daaddffc-c8c3-400b-94b1-00d843aa7b60",
   "metadata": {},
   "outputs": [],
   "source": [
    "predict_button.on_click(on_button_click)\n",
    "plot_button.on_click(on_plot_button_click)"
   ]
  },
  {
   "cell_type": "code",
   "execution_count": 3,
   "id": "3fd2744f-ebe8-4a76-825b-38d19e431e58",
   "metadata": {
    "scrolled": true
   },
   "outputs": [
    {
     "data": {
      "application/vnd.jupyter.widget-view+json": {
       "model_id": "acbe7baab2834255899bf795e4e4fa51",
       "version_major": 2,
       "version_minor": 0
      },
      "text/plain": [
       "FileUpload(value=(), accept='.csv', description='Upload data file')"
      ]
     },
     "metadata": {},
     "output_type": "display_data"
    },
    {
     "data": {
      "application/vnd.jupyter.widget-view+json": {
       "model_id": "dde4b48808a9476c8af0df47d1df6b0d",
       "version_major": 2,
       "version_minor": 0
      },
      "text/plain": [
       "Dropdown(description='Select model:', index=6, options=('ridge', 'elastic_net', 'random_forest', 'gradient_boo…"
      ]
     },
     "metadata": {},
     "output_type": "display_data"
    },
    {
     "data": {
      "application/vnd.jupyter.widget-view+json": {
       "model_id": "fbdcc43b1f3a446ca297833c5e8e5c5f",
       "version_major": 2,
       "version_minor": 0
      },
      "text/plain": [
       "Button(description='Make Predictions', style=ButtonStyle())"
      ]
     },
     "metadata": {},
     "output_type": "display_data"
    },
    {
     "data": {
      "application/vnd.jupyter.widget-view+json": {
       "model_id": "658bb393c48d4e30a2510a4bcaab5dfd",
       "version_major": 2,
       "version_minor": 0
      },
      "text/plain": [
       "Output()"
      ]
     },
     "metadata": {},
     "output_type": "display_data"
    }
   ],
   "source": [
    "display(file_uploader)\n",
    "display(model_selector)\n",
    "display(predict_button)\n",
    "display(output)"
   ]
  },
  {
   "cell_type": "code",
   "execution_count": 4,
   "id": "28d74ba7-638e-4955-b919-5c268ff3b283",
   "metadata": {},
   "outputs": [
    {
     "data": {
      "application/vnd.jupyter.widget-view+json": {
       "model_id": "3dad9b54efdd4c8c8cc3d0dbc90df3c6",
       "version_major": 2,
       "version_minor": 0
      },
      "text/plain": [
       "Button(description='Plot Predictions', style=ButtonStyle())"
      ]
     },
     "metadata": {},
     "output_type": "display_data"
    },
    {
     "data": {
      "application/vnd.jupyter.widget-view+json": {
       "model_id": "d50da561fab44095b7f26fae12ba0102",
       "version_major": 2,
       "version_minor": 0
      },
      "text/plain": [
       "Checkbox(value=False, description='Save plots')"
      ]
     },
     "metadata": {},
     "output_type": "display_data"
    }
   ],
   "source": [
    "display(plot_button)\n",
    "display(save_plots_checkbox)"
   ]
  },
  {
   "cell_type": "code",
   "execution_count": null,
   "id": "7d5eb7f4-059b-4ead-9bb3-2b1fd45611f3",
   "metadata": {},
   "outputs": [],
   "source": []
  }
 ],
 "metadata": {
  "jupytext": {
   "formats": "ipynb,py:percent"
  },
  "kernelspec": {
   "display_name": "Python [conda env:retrofits]",
   "language": "python",
   "name": "conda-env-retrofits-py"
  },
  "language_info": {
   "codemirror_mode": {
    "name": "ipython",
    "version": 3
   },
   "file_extension": ".py",
   "mimetype": "text/x-python",
   "name": "python",
   "nbconvert_exporter": "python",
   "pygments_lexer": "ipython3",
   "version": "3.12.11"
  }
 },
 "nbformat": 4,
 "nbformat_minor": 5
}
