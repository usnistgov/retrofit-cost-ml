{
 "cells": [
  {
   "cell_type": "markdown",
   "id": "0260667e-85e9-40df-9b52-0edc4116e145",
   "metadata": {},
   "source": [
    "# Retrofit cost tool: predictions with user data"
   ]
  },
  {
   "cell_type": "code",
   "execution_count": 1,
   "id": "27fbe4c9-7e7c-4031-969b-d4e203bf30ae",
   "metadata": {},
   "outputs": [],
   "source": [
    "import sys\n",
    "import os\n",
    "from retrofit_cost_tool import load_data, preprocess_data, predict, plot_predictions\n",
    "import ipywidgets as widgets\n",
    "from IPython.display import display\n",
    "import pandas as pd\n",
    "from datetime import datetime"
   ]
  },
  {
   "cell_type": "code",
   "execution_count": 2,
   "id": "d7ca798d-2f50-466b-94fd-2ca942d060af",
   "metadata": {},
   "outputs": [
    {
     "name": "stdout",
     "output_type": "stream",
     "text": [
      "✅ Generated 500 predictions using packaged data\n",
      "Sample predictions: [49.58660427 24.03577805 50.29262299 34.32240819 79.20934291]\n"
     ]
    }
   ],
   "source": [
    "# Test prediction with packaged data\n",
    "from importlib import resources\n",
    "\n",
    "# Load the packaged synthetic data directly\n",
    "with resources.path('retrofit_cost_tool.data', 'synthetic_data.csv') as data_path:\n",
    "    data = load_data(str(data_path))\n",
    "\n",
    "# Make predictions using the predict function\n",
    "predictions = predict(data, model_name='best_model')\n",
    "\n",
    "if predictions is not None:\n",
    "    print(f\"✅ Generated {len(predictions)} predictions using packaged data\")\n",
    "    print(f\"Sample predictions: {predictions[:5]}\")\n",
    "else:\n",
    "    print(\"❌ Prediction failed\")"
   ]
  },
  {
   "cell_type": "code",
   "execution_count": 3,
   "id": "47bf1705-e278-4d90-8f9d-e4f5c38d72b6",
   "metadata": {},
   "outputs": [
    {
     "name": "stdout",
     "output_type": "stream",
     "text": [
      "✅ Predictions from packaged data (with ground truth):\n",
      "   Predicted     Actual\n",
      "0  49.586604   8.077504\n",
      "1  24.035778  17.573217\n",
      "2  50.292623   7.616414\n",
      "3  34.322408  74.594776\n",
      "4  79.209343  70.745681\n"
     ]
    }
   ],
   "source": [
    "# Check if ground truth exists in packaged data\n",
    "has_ground_truth = 'ystruct19' in data.columns\n",
    "if has_ground_truth:\n",
    "    predictions_df = pd.DataFrame({'Predicted': predictions, 'Actual': data['ystruct19']})\n",
    "    print(\"✅ Predictions from packaged data (with ground truth):\")\n",
    "else:\n",
    "    predictions_df = pd.DataFrame({'Predicted': predictions})\n",
    "    print(\"✅ Predictions from packaged data (no ground truth):\")\n",
    "print(predictions_df.head())"
   ]
  },
  {
   "cell_type": "code",
   "execution_count": 4,
   "id": "b23f269b-d737-444d-9ae4-6ef7004ae17f",
   "metadata": {},
   "outputs": [],
   "source": [
    "# Create widgets\n",
    "file_uploader = widgets.FileUpload(\n",
    "    description='Upload data file',\n",
    "    accept='.csv'\n",
    ")\n",
    "\n",
    "model_selector = widgets.Dropdown(\n",
    "    options=['ridge_model', 'elastic_net_model', 'random_forest_model', \n",
    "             'gradient_boosting_model', 'ols_model', 'glm_gamma_model', 'best_model'],\n",
    "    value='best_model',\n",
    "    description='Select model:',\n",
    ")\n",
    "\n",
    "predict_button = widgets.Button(description='Make Predictions', button_style='primary')\n",
    "plot_button = widgets.Button(description='Plot Predictions', button_style='info')\n",
    "save_csv_button = widgets.Button(description='Save to CSV', button_style='success')\n",
    "\n",
    "save_plots_checkbox = widgets.Checkbox(value=False, description='Save plots')\n",
    "\n",
    "# Global variables to store predictions and metadata\n",
    "predictions_and_actuals = None\n",
    "current_data_info = None\n",
    "\n",
    "output = widgets.Output()\n",
    "\n",
    "def on_button_click(b):\n",
    "    global predictions_and_actuals, current_data_info\n",
    "    with output:\n",
    "        output.clear_output(wait=True)\n",
    "        if file_uploader.value:\n",
    "            # Process uploaded file\n",
    "            file_name = file_uploader.value[0]['name']\n",
    "            file_content = file_uploader.value[0]['content']\n",
    "            with open(file_name, 'wb') as f:\n",
    "                f.write(file_content.tobytes())\n",
    "            \n",
    "            data = load_data(file_name)\n",
    "            \n",
    "            # Check if ground truth exists\n",
    "            target_column = 'ystruct19'  # Expected target column name\n",
    "            has_actual = target_column in data.columns\n",
    "            \n",
    "            predictions = predict(data, model_name=model_selector.value)\n",
    "            \n",
    "            if has_actual:\n",
    "                actual_values = data[target_column]\n",
    "                predictions_df = pd.DataFrame({\n",
    "                    'Predicted': predictions, \n",
    "                    'Actual': actual_values\n",
    "                })\n",
    "                predictions_and_actuals = (predictions_df, actual_values, True)  # True = has ground truth\n",
    "                \n",
    "                print(\"✅ Predictions from uploaded file (with ground truth):\")\n",
    "                print(predictions_df.head())\n",
    "                print(\"\\nSummary Statistics:\")\n",
    "                print(predictions_df.describe())\n",
    "                \n",
    "                # Calculate accuracy metrics\n",
    "                mae = abs(predictions_df['Predicted'] - predictions_df['Actual']).mean()\n",
    "                rmse = ((predictions_df['Predicted'] - predictions_df['Actual'])**2).mean()**0.5\n",
    "                print(f\"\\nAccuracy Metrics:\")\n",
    "                print(f\"MAE: ${mae:,.2f}\")\n",
    "                print(f\"RMSE: ${rmse:,.2f}\")\n",
    "                \n",
    "            else:\n",
    "                predictions_df = pd.DataFrame({'Predicted': predictions})\n",
    "                predictions_and_actuals = (predictions_df, None, False)  # False = no ground truth\n",
    "                \n",
    "                print(\"✅ Predictions from uploaded file (no ground truth available):\")\n",
    "                print(predictions_df.head())\n",
    "                print(\"\\nSummary Statistics:\")\n",
    "                print(predictions_df['Predicted'].describe())\n",
    "            \n",
    "            # Store metadata for CSV export\n",
    "            current_data_info = {\n",
    "                'filename': file_name,\n",
    "                'model_used': model_selector.value,\n",
    "                'timestamp': datetime.now().strftime('%Y-%m-%d %H:%M:%S'),\n",
    "                'has_ground_truth': has_actual,\n",
    "                'num_predictions': len(predictions)\n",
    "            }\n",
    "            \n",
    "        else:\n",
    "            print(\"Please upload a CSV file first\")\n",
    "\n",
    "def on_plot_button_click(b):\n",
    "    global predictions_and_actuals\n",
    "    if predictions_and_actuals is not None:\n",
    "        predictions_df, actual_values, has_ground_truth = predictions_and_actuals\n",
    "        with output:\n",
    "            try:\n",
    "                if has_ground_truth:\n",
    "                    # Plot with ground truth comparison\n",
    "                    plot_predictions(predictions_df, actual_values, save_plots=save_plots_checkbox.value)\n",
    "                else:\n",
    "                    # Plot predictions only (histogram/distribution)\n",
    "                    import matplotlib.pyplot as plt\n",
    "                    import seaborn as sns\n",
    "                    \n",
    "                    fig, (ax1, ax2) = plt.subplots(1, 2, figsize=(12, 5))\n",
    "                    \n",
    "                    # Histogram of predictions\n",
    "                    ax1.hist(predictions_df['Predicted'], bins=30, alpha=0.7, color='skyblue', edgecolor='black')\n",
    "                    ax1.set_xlabel('Predicted Retrofit Cost ($)')\n",
    "                    ax1.set_ylabel('Frequency')\n",
    "                    ax1.set_title('Distribution of Predicted Costs')\n",
    "                    ax1.ticklabel_format(style='plain', axis='x')\n",
    "                    \n",
    "                    # Box plot\n",
    "                    ax2.boxplot(predictions_df['Predicted'])\n",
    "                    ax2.set_ylabel('Predicted Retrofit Cost ($)')\n",
    "                    ax2.set_title('Prediction Distribution (Box Plot)')\n",
    "                    ax2.ticklabel_format(style='plain', axis='y')\n",
    "                    \n",
    "                    plt.tight_layout()\n",
    "                    \n",
    "                    if save_plots_checkbox.value:\n",
    "                        timestamp = datetime.now().strftime('%Y%m%d_%H%M%S')\n",
    "                        plt.savefig(f'predictions_distribution_{timestamp}.png', dpi=300, bbox_inches='tight')\n",
    "                        print(\"📊 Plot saved as PNG file\")\n",
    "                    \n",
    "                    plt.show()\n",
    "                    \n",
    "            except Exception as e:\n",
    "                print(f\"Plotting error: {e}\")\n",
    "                import traceback\n",
    "                traceback.print_exc()\n",
    "    else:\n",
    "        with output:\n",
    "            print(\"Please make predictions first\")\n",
    "\n",
    "def on_save_csv_click(b):\n",
    "    global predictions_and_actuals, current_data_info\n",
    "    if predictions_and_actuals is not None:\n",
    "        predictions_df, _, has_ground_truth = predictions_and_actuals\n",
    "        \n",
    "        with output:\n",
    "            try:\n",
    "                # Create filename with timestamp\n",
    "                timestamp = datetime.now().strftime('%Y%m%d_%H%M%S')\n",
    "                base_name = current_data_info['filename'].replace('.csv', '') if current_data_info else 'predictions'\n",
    "                csv_filename = f\"{base_name}_predictions_{timestamp}.csv\"\n",
    "                \n",
    "                # Add metadata as comments (if supported) or as additional columns\n",
    "                export_df = predictions_df.copy()\n",
    "                \n",
    "                # Add metadata columns\n",
    "                if current_data_info:\n",
    "                    export_df['model_used'] = current_data_info['model_used']\n",
    "                    export_df['prediction_timestamp'] = current_data_info['timestamp']\n",
    "                    export_df['source_file'] = current_data_info['filename']\n",
    "                \n",
    "                # Save to CSV\n",
    "                export_df.to_csv(csv_filename, index=False)\n",
    "                \n",
    "                print(f\"✅ Predictions saved to: {csv_filename}\")\n",
    "                print(f\"📊 Exported {len(export_df)} predictions\")\n",
    "                \n",
    "                if has_ground_truth:\n",
    "                    print(\"📋 Columns: Predicted, Actual, model_used, prediction_timestamp, source_file\")\n",
    "                else:\n",
    "                    print(\"📋 Columns: Predicted, model_used, prediction_timestamp, source_file\")\n",
    "                    \n",
    "            except Exception as e:\n",
    "                print(f\"❌ Error saving CSV: {e}\")\n",
    "    else:\n",
    "        with output:\n",
    "            print(\"Please make predictions first\")\n",
    "\n",
    "predict_button.on_click(on_button_click)\n",
    "plot_button.on_click(on_plot_button_click)\n",
    "save_csv_button.on_click(on_save_csv_click)"
   ]
  },
  {
   "cell_type": "code",
   "execution_count": 8,
   "id": "d450d5be-e1d1-4255-b28c-dd733a3e6953",
   "metadata": {},
   "outputs": [
    {
     "data": {
      "application/vnd.jupyter.widget-view+json": {
       "model_id": "ca74fdbc1eec4b45b97da1079409ebb7",
       "version_major": 2,
       "version_minor": 0
      },
      "text/plain": [
       "VBox(children=(HTML(value='<h3>📁 Data Upload</h3>'), FileUpload(value=(), accept='.csv', description='Upload d…"
      ]
     },
     "metadata": {},
     "output_type": "display_data"
    },
    {
     "data": {
      "application/vnd.jupyter.widget-view+json": {
       "model_id": "3423f0ba854c4daeb52dbdb167c8595d",
       "version_major": 2,
       "version_minor": 0
      },
      "text/plain": [
       "VBox(children=(HTML(value='<h3>🔧 Actions</h3>'), HBox(children=(Button(button_style='primary', description='Ma…"
      ]
     },
     "metadata": {},
     "output_type": "display_data"
    },
    {
     "data": {
      "application/vnd.jupyter.widget-view+json": {
       "model_id": "05d41910004c4b048ba82948c610ce80",
       "version_major": 2,
       "version_minor": 0
      },
      "text/plain": [
       "VBox(children=(HTML(value='<h3>📊 Results</h3>'), Output()))"
      ]
     },
     "metadata": {},
     "output_type": "display_data"
    }
   ],
   "source": [
    "# Display widgets in organized layout\n",
    "upload_section = widgets.VBox([\n",
    "    widgets.HTML(\"<h3>📁 Data Upload</h3>\"),\n",
    "    file_uploader,\n",
    "    model_selector\n",
    "])\n",
    "\n",
    "action_section = widgets.VBox([\n",
    "    widgets.HTML(\"<h3>🔧 Actions</h3>\"),\n",
    "    widgets.HBox([predict_button, plot_button, save_csv_button]),\n",
    "    save_plots_checkbox\n",
    "])\n",
    "\n",
    "results_section = widgets.VBox([\n",
    "    widgets.HTML(\"<h3>📊 Results</h3>\"),\n",
    "    output\n",
    "])\n",
    "\n",
    "# Display all sections\n",
    "display(upload_section)\n",
    "display(action_section) \n",
    "display(results_section)"
   ]
  },
  {
   "cell_type": "code",
   "execution_count": null,
   "id": "ff334538",
   "metadata": {},
   "outputs": [],
   "source": [
    "# Optional: Instructions for users\n",
    "instructions = widgets.HTML(\"\"\"\n",
    "<div style=\"background-color: #f0f8ff; padding: 15px; border-radius: 5px; margin: 10px 0;\">\n",
    "<h4>📋 Instructions:</h4>\n",
    "<ol>\n",
    "<li><strong>Upload your CSV file</strong> with building data (area, bldg_age, stories, etc.)</li>\n",
    "<li><strong>Select a model</strong> (start with 'best_model')</li>\n",
    "<li><strong>Make Predictions</strong> to generate retrofit cost estimates</li>\n",
    "<li><strong>Plot Predictions</strong> to visualize results</li>\n",
    "<li><strong>Save to CSV</strong> to export predictions with metadata</li>\n",
    "</ol>\n",
    "<p><strong>Note:</strong> Ground truth values (ystruct19) are optional. The tool works with prediction-only data.</p>\n",
    "</div>\n",
    "\"\"\")\n",
    "\n",
    "display(instructions)"
   ]
  }
 ],
 "metadata": {
  "jupytext": {
   "formats": "ipynb,py:percent"
  },
  "kernelspec": {
   "display_name": "Python [conda env:test-retrofits]",
   "language": "python",
   "name": "conda-env-test-retrofits-py"
  },
  "language_info": {
   "codemirror_mode": {
    "name": "ipython",
    "version": 3
   },
   "file_extension": ".py",
   "mimetype": "text/x-python",
   "name": "python",
   "nbconvert_exporter": "python",
   "pygments_lexer": "ipython3",
   "version": "3.12.11"
  }
 },
 "nbformat": 4,
 "nbformat_minor": 5
}
