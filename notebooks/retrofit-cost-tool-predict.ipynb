{
 "cells": [
  {
   "cell_type": "markdown",
   "id": "0260667e-85e9-40df-9b52-0edc4116e145",
   "metadata": {},
   "source": [
    "# Retrofit cost tool: predictions with user data"
   ]
  },
  {
   "cell_type": "code",
   "execution_count": 1,
   "id": "27fbe4c9-7e7c-4031-969b-d4e203bf30ae",
   "metadata": {},
   "outputs": [],
   "source": [
    "import sys\n",
    "import os\n",
    "from retrofit_cost_tool import load_data, preprocess_data, predict, plot_predictions\n",
    "import ipywidgets as widgets\n",
    "from IPython.display import display\n",
    "import pandas as pd\n",
    "from datetime import datetime"
   ]
  },
  {
   "cell_type": "code",
   "execution_count": 2,
   "id": "d7ca798d-2f50-466b-94fd-2ca942d060af",
   "metadata": {},
   "outputs": [
    {
     "name": "stdout",
     "output_type": "stream",
     "text": [
      "✅ Generated 500 predictions using packaged data\n",
      "Sample predictions: [49.58660427 24.03577805 50.29262299 34.32240819 79.20934291]\n"
     ]
    }
   ],
   "source": [
    "# Test prediction with packaged data\n",
    "from importlib import resources\n",
    "\n",
    "# Load the packaged synthetic data directly\n",
    "with resources.path('retrofit_cost_tool.data', 'synthetic_data.csv') as data_path:\n",
    "    data = load_data(str(data_path))\n",
    "\n",
    "# Make predictions using the predict function\n",
    "predictions = predict(data, model_name='best_model')\n",
    "\n",
    "if predictions is not None:\n",
    "    print(f\"✅ Generated {len(predictions)} predictions using packaged data\")\n",
    "    print(f\"Sample predictions: {predictions[:5]}\")\n",
    "else:\n",
    "    print(\"❌ Prediction failed\")"
   ]
  },
  {
   "cell_type": "code",
   "execution_count": 3,
   "id": "47bf1705-e278-4d90-8f9d-e4f5c38d72b6",
   "metadata": {},
   "outputs": [
    {
     "name": "stdout",
     "output_type": "stream",
     "text": [
      "✅ Predictions from packaged data (with ground truth):\n",
      "   Predicted     Actual\n",
      "0  49.586604   8.077504\n",
      "1  24.035778  17.573217\n",
      "2  50.292623   7.616414\n",
      "3  34.322408  74.594776\n",
      "4  79.209343  70.745681\n"
     ]
    }
   ],
   "source": [
    "# Check if ground truth exists in packaged data\n",
    "has_ground_truth = 'ystruct19' in data.columns\n",
    "if has_ground_truth:\n",
    "    predictions_df = pd.DataFrame({'Predicted': predictions, 'Actual': data['ystruct19']})\n",
    "    print(\"✅ Predictions from packaged data (with ground truth):\")\n",
    "else:\n",
    "    predictions_df = pd.DataFrame({'Predicted': predictions})\n",
    "    print(\"✅ Predictions from packaged data (no ground truth):\")\n",
    "print(predictions_df.head())"
   ]
  },
  {
   "cell_type": "markdown",
   "id": "8019e084-0260-4808-8e7c-81b28802915e",
   "metadata": {},
   "source": [
    "# Demo user module"
   ]
  },
  {
   "cell_type": "code",
   "execution_count": 4,
   "id": "b23f269b-d737-444d-9ae4-6ef7004ae17f",
   "metadata": {},
   "outputs": [],
   "source": [
    "# Create widgets\n",
    "file_uploader = widgets.FileUpload(\n",
    "    description='Upload data file',\n",
    "    accept='.csv'\n",
    ")\n",
    "\n",
    "model_selector = widgets.Dropdown(\n",
    "    options=['ridge_model', 'elastic_net_model', 'random_forest_model', \n",
    "             'gradient_boosting_model', 'ols_model', 'glm_gamma_model', 'best_model'],\n",
    "    value='best_model',\n",
    "    description='Select model:',\n",
    ")\n",
    "\n",
    "feature_selector = widgets.Dropdown(\n",
    "    options=['p_obj_dummy', 'bldg_group_dummy', 'sp_dummy', 'historic_dummy', 'occup_cond'],\n",
    "    value='p_obj_dummy',\n",
    "    description='Group by:',\n",
    ")\n",
    "\n",
    "# filename input widget\n",
    "filename_input = widgets.Text(\n",
    "    placeholder='Optional: custom filename (without .csv)',\n",
    "    description='Output name:',\n",
    "    style={'description_width': '100px'},\n",
    "    layout=widgets.Layout(width='300px')\n",
    ")\n",
    "\n",
    "predict_button = widgets.Button(description='Make Predictions', button_style='primary')\n",
    "plot_button = widgets.Button(description='Plot Predictions', button_style='info')\n",
    "save_csv_button = widgets.Button(description='Save to CSV', button_style='success')\n",
    "summary_button = widgets.Button(description='Feature Summary', button_style='warning')\n",
    "\n",
    "# Global variable to store uploaded data for summaries\n",
    "uploaded_data = None\n",
    "\n",
    "\n",
    "save_plots_checkbox = widgets.Checkbox(value=False, description='Save plots')\n",
    "\n",
    "# Global variables to store predictions and metadata\n",
    "predictions_and_actuals = None\n",
    "current_data_info = None\n",
    "uploaded_data = None  # Store original data for CSV export\n",
    "\n",
    "output = widgets.Output()\n",
    "\n",
    "def on_button_click(b):\n",
    "    global predictions_and_actuals, current_data_info, uploaded_data  # Add uploaded_data here\n",
    "    with output:\n",
    "        output.clear_output(wait=True)\n",
    "        if file_uploader.value:\n",
    "            # Process uploaded file\n",
    "            file_name = file_uploader.value[0]['name']\n",
    "            file_content = file_uploader.value[0]['content']\n",
    "            with open(file_name, 'wb') as f:\n",
    "                f.write(file_content.tobytes())\n",
    "            \n",
    "            data = load_data(file_name)\n",
    "            uploaded_data = data.copy() # store original user data\n",
    "            \n",
    "            # Check if ground truth exists\n",
    "            target_column = 'ystruct19'  # Expected target column name\n",
    "            has_actual = target_column in data.columns\n",
    "            \n",
    "            predictions = predict(data, model_name=model_selector.value)\n",
    "            \n",
    "            if has_actual:\n",
    "                actual_values = data[target_column]\n",
    "                predictions_df = pd.DataFrame({\n",
    "                    'Predicted': predictions, \n",
    "                    'Actual': actual_values\n",
    "                })\n",
    "                predictions_and_actuals = (predictions_df, actual_values, True)  # True = has ground truth\n",
    "                \n",
    "                print(\"✅ Predictions from uploaded file (with ground truth):\")\n",
    "                print(predictions_df.head())\n",
    "                print(\"\\nSummary Statistics:\")\n",
    "                print(predictions_df.describe())\n",
    "                \n",
    "                # Calculate accuracy metrics\n",
    "                mae = abs(predictions_df['Predicted'] - predictions_df['Actual']).mean()\n",
    "                rmse = ((predictions_df['Predicted'] - predictions_df['Actual'])**2).mean()**0.5\n",
    "                print(f\"\\nAccuracy Metrics:\")\n",
    "                print(f\"MAE: ${mae:,.2f}\")\n",
    "                print(f\"RMSE: ${rmse:,.2f}\")\n",
    "                \n",
    "            else:\n",
    "                predictions_df = pd.DataFrame({'Predicted': predictions})\n",
    "                predictions_and_actuals = (predictions_df, None, False)  # False = no ground truth\n",
    "                \n",
    "                print(\"✅ Predictions from uploaded file (no ground truth available):\")\n",
    "                print(predictions_df.head())\n",
    "                print(\"\\nSummary Statistics:\")\n",
    "                print(predictions_df['Predicted'].describe())\n",
    "            \n",
    "            # Store metadata for CSV export\n",
    "            current_data_info = {\n",
    "                'filename': file_name,\n",
    "                'model_used': model_selector.value,\n",
    "                'timestamp': datetime.now().strftime('%Y-%m-%d %H:%M:%S'),\n",
    "                'has_ground_truth': has_actual,\n",
    "                'num_predictions': len(predictions)\n",
    "            }\n",
    "            \n",
    "        else:\n",
    "            print(\"Please upload a CSV file first\")\n",
    "\n",
    "\n",
    "def on_summary_click(b):\n",
    "    global predictions_and_actuals, uploaded_data\n",
    "    if predictions_and_actuals is not None and uploaded_data is not None:\n",
    "        predictions_df, _, has_ground_truth = predictions_and_actuals\n",
    "        selected_feature = feature_selector.value\n",
    "        \n",
    "        with output:\n",
    "            try:\n",
    "                # Check if feature exists in data\n",
    "                if selected_feature not in uploaded_data.columns:\n",
    "                    print(f\"❌ Feature '{selected_feature}' not found in your data\")\n",
    "                    return\n",
    "                \n",
    "                # Create summary DataFrame\n",
    "                summary_data = uploaded_data.copy()\n",
    "                summary_data['Predicted_Cost'] = predictions_df['Predicted']\n",
    "                \n",
    "                # Group by selected feature\n",
    "                grouped = summary_data.groupby(selected_feature)['Predicted_Cost']\n",
    "                \n",
    "                print(f\"📊 **Summary Statistics by {selected_feature}:**\")\n",
    "                print(\"=\" * 50)\n",
    "                \n",
    "                summary_stats = grouped.agg(['count', 'mean', 'median', 'std', 'min', 'max'])\n",
    "                \n",
    "                # Format the output nicely\n",
    "                for group_value, stats in summary_stats.iterrows():\n",
    "                    print(f\"\\n🏢 {selected_feature} = {group_value}:\")\n",
    "                    print(f\"   Count: {stats['count']:.0f} buildings\")\n",
    "                    print(f\"   Mean Cost: ${stats['mean']:,.2f}\")\n",
    "                    print(f\"   Median Cost: ${stats['median']:,.2f}\")\n",
    "                    print(f\"   Std Dev: ${stats['std']:,.2f}\")\n",
    "                    print(f\"   Range: ${stats['min']:,.2f} - ${stats['max']:,.2f}\")\n",
    "                \n",
    "                # Add percentage breakdown\n",
    "                print(f\"\\n📈 **Distribution by {selected_feature}:**\")\n",
    "                value_counts = uploaded_data[selected_feature].value_counts()\n",
    "                for value, count in value_counts.items():\n",
    "                    percentage = (count / len(uploaded_data)) * 100\n",
    "                    avg_cost = grouped.get_group(value).mean()\n",
    "                    print(f\"   {selected_feature} = {value}: {count} buildings ({percentage:.1f}%) - Avg: ${avg_cost:,.2f}\")\n",
    "                \n",
    "            except Exception as e:\n",
    "                print(f\"❌ Error generating summary: {e}\")\n",
    "                import traceback\n",
    "                traceback.print_exc()\n",
    "    else:\n",
    "        with output:\n",
    "            print(\"Please make predictions first\")\n",
    "\n",
    "            \n",
    "def on_plot_button_click(b):\n",
    "    global predictions_and_actuals\n",
    "    if predictions_and_actuals is not None:\n",
    "        predictions_df, actual_values, has_ground_truth = predictions_and_actuals\n",
    "        with output:\n",
    "            try:\n",
    "                plot_predictions(\n",
    "                    predictions_df, \n",
    "                    actual_values if has_ground_truth else None, \n",
    "                    plot_scatter=has_ground_truth, \n",
    "                    plot_histograms=True, \n",
    "                    save_plots=save_plots_checkbox.value\n",
    "                )\n",
    "                    \n",
    "            except Exception as e:\n",
    "                print(f\"Plotting error: {e}\")\n",
    "                import traceback\n",
    "                traceback.print_exc()\n",
    "    else:\n",
    "        with output:\n",
    "            print(\"Please make predictions first\")\n",
    "\n",
    "\n",
    "def on_save_csv_click(b):\n",
    "    global predictions_and_actuals, current_data_info, uploaded_data\n",
    "    if predictions_and_actuals is not None:\n",
    "        predictions_df, _, has_ground_truth = predictions_and_actuals\n",
    "        \n",
    "        with output:\n",
    "            try:\n",
    "                # Determine filename\n",
    "                custom_name = filename_input.value.strip()\n",
    "                timestamp = datetime.now().strftime('%Y%m%d_%H%M%S')\n",
    "                \n",
    "                if custom_name:\n",
    "                    # Use custom name with timestamp\n",
    "                    csv_filename = f\"{custom_name}_{timestamp}.csv\"\n",
    "                else:\n",
    "                    # Use default naming\n",
    "                    base_name = current_data_info['filename'].replace('.csv', '') if current_data_info else 'predictions'\n",
    "                    csv_filename = f\"{base_name}_with_predictions_{timestamp}.csv\"\n",
    "                \n",
    "                # Create comprehensive export DataFrame\n",
    "                if uploaded_data is not None:\n",
    "                    # Include all original features\n",
    "                    export_df = uploaded_data.copy()\n",
    "                    \n",
    "                    # Add predictions\n",
    "                    export_df['Predicted_Cost'] = predictions_df['Predicted']\n",
    "                    \n",
    "                    # Add metadata columns\n",
    "                    if current_data_info:\n",
    "                        export_df['model_used'] = current_data_info['model_used']\n",
    "                        export_df['prediction_timestamp'] = current_data_info['timestamp']\n",
    "                        export_df['source_file'] = current_data_info['filename']\n",
    "                    \n",
    "                    # Save to CSV\n",
    "                    export_df.to_csv(csv_filename, index=False)\n",
    "                    \n",
    "                    print(f\"✅ Complete dataset with predictions saved to: {csv_filename}\")\n",
    "                    print(f\"📊 Exported {len(export_df)} rows with {len(export_df.columns)} columns\")\n",
    "                    \n",
    "                    # Show column summary\n",
    "                    feature_cols = [col for col in export_df.columns \n",
    "                                  if col not in ['Predicted_Cost', 'model_used', 'prediction_timestamp', 'source_file']]\n",
    "                    print(f\"📋 Includes:\")\n",
    "                    print(f\"   • Original features: {', '.join(feature_cols[:5])}{'...' if len(feature_cols) > 5 else ''}\")\n",
    "                    print(f\"   • Predictions: Predicted_Cost\")\n",
    "                    print(f\"   • Metadata: model_used, prediction_timestamp, source_file\")\n",
    "                    \n",
    "                else:\n",
    "                    # Fallback for packaged data testing\n",
    "                    export_df = predictions_df.copy()\n",
    "                    if current_data_info:\n",
    "                        export_df['model_used'] = current_data_info['model_used']\n",
    "                        export_df['prediction_timestamp'] = current_data_info['timestamp']\n",
    "                    \n",
    "                    export_df.to_csv(csv_filename, index=False)\n",
    "                    print(f\"✅ Predictions saved to: {csv_filename}\")\n",
    "                    print(f\"📊 Exported {len(export_df)} predictions\")\n",
    "                    \n",
    "            except Exception as e:\n",
    "                print(f\"❌ Error saving CSV: {e}\")\n",
    "                import traceback\n",
    "                traceback.print_exc()\n",
    "    else:\n",
    "        with output:\n",
    "            print(\"Please make predictions first\")\n",
    "\n",
    "predict_button.on_click(on_button_click)\n",
    "summary_button.on_click(on_summary_click)\n",
    "plot_button.on_click(on_plot_button_click)\n",
    "save_csv_button.on_click(on_save_csv_click)"
   ]
  },
  {
   "cell_type": "code",
   "execution_count": 5,
   "id": "8e1efa50-25f8-4238-9592-38b240cf37e9",
   "metadata": {},
   "outputs": [],
   "source": [
    "# Display widgets in organized layout\n",
    "upload_section = widgets.VBox([\n",
    "    widgets.HTML(\"<h3>📁 Data Upload</h3>\"),\n",
    "    file_uploader,\n",
    "    model_selector\n",
    "])\n",
    "\n",
    "action_section = widgets.VBox([\n",
    "    widgets.HTML(\"<h3>🔧 Actions</h3>\"),\n",
    "    widgets.HBox([predict_button, plot_button, save_csv_button]),\n",
    "    widgets.HBox([summary_button, feature_selector]),  # Add this line\n",
    "    save_plots_checkbox\n",
    "])\n",
    "\n",
    "export_section = widgets.VBox([\n",
    "    widgets.HTML(\"<h3>💾 Export Options</h3>\"),\n",
    "    filename_input,\n",
    "    widgets.HTML(\"<small>Leave blank for auto-generated filename</small>\")\n",
    "])\n",
    "\n",
    "results_section = widgets.VBox([\n",
    "    widgets.HTML(\"<h3>📊 Results</h3>\"),\n",
    "    output\n",
    "])"
   ]
  },
  {
   "cell_type": "code",
   "execution_count": 6,
   "id": "ff334538",
   "metadata": {},
   "outputs": [
    {
     "data": {
      "application/vnd.jupyter.widget-view+json": {
       "model_id": "cb33e5f4ca154e8b95b4067c61d4fa68",
       "version_major": 2,
       "version_minor": 0
      },
      "text/plain": [
       "HTML(value='\\n<div style=\"background-color: #808080; padding: 15px; border-radius: 5px; margin: 10px 0;\">\\n<h4…"
      ]
     },
     "metadata": {},
     "output_type": "display_data"
    }
   ],
   "source": [
    "# Optional: Instructions for users\n",
    "instructions = widgets.HTML(\"\"\"\n",
    "<div style=\"background-color: #808080; padding: 15px; border-radius: 5px; margin: 10px 0;\">\n",
    "<h4>📋 Instructions:</h4>\n",
    "<ol>\n",
    "<li><strong>Upload your CSV file</strong> with building data (area, bldg_age, stories, etc.)</li>\n",
    "<li><strong>Select a model</strong> (start with 'best_model')</li>\n",
    "<li><strong>Make Predictions</strong> to generate retrofit cost estimates</li>\n",
    "<li><strong>Plot Predictions</strong> to visualize results</li>\n",
    "<li><strong>Optionally name your output file</strong> in the Export Options section</li>\n",
    "<li><strong>Save to CSV</strong> to export complete dataset with predictions and metadata</li>\n",
    "</ol>\n",
    "<p><strong>Note:</strong> Ground truth values (ystruct19) are optional. The exported CSV includes all original features plus predictions and metadata.</p>\n",
    "</div>\n",
    "\"\"\")\n",
    "\n",
    "display(instructions)"
   ]
  },
  {
   "cell_type": "code",
   "execution_count": 7,
   "id": "d450d5be-e1d1-4255-b28c-dd733a3e6953",
   "metadata": {},
   "outputs": [
    {
     "data": {
      "application/vnd.jupyter.widget-view+json": {
       "model_id": "4a83063bc5e14534b25699ed78ed7a9f",
       "version_major": 2,
       "version_minor": 0
      },
      "text/plain": [
       "VBox(children=(HTML(value='<h3>📁 Data Upload</h3>'), FileUpload(value=(), accept='.csv', description='Upload d…"
      ]
     },
     "metadata": {},
     "output_type": "display_data"
    },
    {
     "data": {
      "application/vnd.jupyter.widget-view+json": {
       "model_id": "c360785f444d47ca8759d1a0ed1e9f0c",
       "version_major": 2,
       "version_minor": 0
      },
      "text/plain": [
       "VBox(children=(HTML(value='<h3>🔧 Actions</h3>'), HBox(children=(Button(button_style='primary', description='Ma…"
      ]
     },
     "metadata": {},
     "output_type": "display_data"
    },
    {
     "data": {
      "application/vnd.jupyter.widget-view+json": {
       "model_id": "46328d86011c47a2a2b3ea5d7b987220",
       "version_major": 2,
       "version_minor": 0
      },
      "text/plain": [
       "VBox(children=(HTML(value='<h3>💾 Export Options</h3>'), Text(value='', description='Output name:', layout=Layo…"
      ]
     },
     "metadata": {},
     "output_type": "display_data"
    },
    {
     "data": {
      "application/vnd.jupyter.widget-view+json": {
       "model_id": "c00e97e76dc647b0ad46bd8e52616aa8",
       "version_major": 2,
       "version_minor": 0
      },
      "text/plain": [
       "VBox(children=(HTML(value='<h3>📊 Results</h3>'), Output()))"
      ]
     },
     "metadata": {},
     "output_type": "display_data"
    }
   ],
   "source": [
    "# Display all sections\n",
    "display(upload_section)\n",
    "display(action_section)\n",
    "display(export_section)\n",
    "display(results_section)"
   ]
  }
 ],
 "metadata": {
  "jupytext": {
   "formats": "ipynb,py:percent"
  },
  "kernelspec": {
   "display_name": "Python [conda env:test-retrofits]",
   "language": "python",
   "name": "conda-env-test-retrofits-py"
  },
  "language_info": {
   "codemirror_mode": {
    "name": "ipython",
    "version": 3
   },
   "file_extension": ".py",
   "mimetype": "text/x-python",
   "name": "python",
   "nbconvert_exporter": "python",
   "pygments_lexer": "ipython3",
   "version": "3.12.11"
  }
 },
 "nbformat": 4,
 "nbformat_minor": 5
}
