{
 "cells": [
  {
   "cell_type": "markdown",
   "id": "e042d84a-0227-45e8-8827-1b4a893daf4b",
   "metadata": {},
   "source": [
    "# Notebook documenting model training, selection, and saving pre-trained models"
   ]
  },
  {
   "cell_type": "code",
   "execution_count": 1,
   "id": "df8cafe5-69d0-4625-b05e-e554aca05604",
   "metadata": {},
   "outputs": [],
   "source": [
    "import sys\n",
    "import os\n",
    "import numpy as np\n",
    "sys.path.insert(0, os.path.abspath(os.path.join(os.getcwd(), '..', 'src')))\n",
    "\n",
    "from retrofit_cost_tool import load_data, preprocess_data, split_data, train_ridge_model, train_elastic_net_model, train_random_forest_model, train_gradient_boosting_model, evaluate_model, save_model, model_selection"
   ]
  },
  {
   "cell_type": "code",
   "execution_count": 2,
   "id": "70dd760a-a295-47d5-99dc-3fc852f28feb",
   "metadata": {},
   "outputs": [],
   "source": [
    "import warnings\n",
    "from sklearn.exceptions import ConvergenceWarning\n",
    "\n",
    "warnings.filterwarnings(\"ignore\", category=ConvergenceWarning)"
   ]
  },
  {
   "cell_type": "code",
   "execution_count": 3,
   "id": "849f2bdb-f84d-4ddd-9d64-fe1a202e7a5a",
   "metadata": {},
   "outputs": [],
   "source": [
    "# Load training data\n",
    "file_path = '../data/srce_train.csv'\n",
    "data = load_data(file_path)"
   ]
  },
  {
   "cell_type": "code",
   "execution_count": 4,
   "id": "14bec653-80a6-40bf-9eb3-1c774e6739f3",
   "metadata": {},
   "outputs": [],
   "source": [
    "# Preprocess data\n",
    "features_string = ['seismicity_pga050', 'p_obj_dummy', 'bldg_group_dummy', 'sp_dummy', 'occup_cond', 'historic_dummy']\n",
    "features_num = ['area', 'bldg_age', 'stories']\n",
    "target = 'ystruct19'\n",
    "X, y = preprocess_data(data, features_string, features_num, target)\n",
    "\n",
    "# Split data into training and validation sets\n",
    "X_train, X_valid, y_train, y_valid = split_data(X, y)\n"
   ]
  },
  {
   "cell_type": "code",
   "execution_count": 5,
   "id": "a1a743ca-f729-4836-8828-872f562d7b9e",
   "metadata": {
    "scrolled": true
   },
   "outputs": [
    {
     "name": "stdout",
     "output_type": "stream",
     "text": [
      "Best model: random_forest\n"
     ]
    }
   ],
   "source": [
    "# Train models\n",
    "alpha_grid = np.logspace(-3, 3, 100)\n",
    "l1_ratio_grid = np.linspace(0.1, 0.9, 10)\n",
    "n_estimators_grid = [100, 200, 300]\n",
    "max_depth_grid = [None, 5, 10]\n",
    "\n",
    "models = {\n",
    "    'ridge': train_ridge_model(X_train, y_train, alpha_grid),\n",
    "    'elastic_net': train_elastic_net_model(X_train, y_train, alpha_grid, l1_ratio_grid),\n",
    "    'random_forest': train_random_forest_model(X_train, y_train, n_estimators_grid, max_depth_grid),\n",
    "    'gradient_boosting': train_gradient_boosting_model(X_train, y_train, n_estimators_grid, max_depth_grid)\n",
    "}\n",
    "\n",
    "# Model selection\n",
    "best_model_name, best_model = model_selection(models, X_train, y_train)\n",
    "print(f'Best model: {best_model_name}')\n"
   ]
  },
  {
   "cell_type": "code",
   "execution_count": 6,
   "id": "f624f3b4-f73e-417f-8221-d4e138d6f8bb",
   "metadata": {},
   "outputs": [
    {
     "name": "stdout",
     "output_type": "stream",
     "text": [
      "RMSE: 35.3399\n"
     ]
    }
   ],
   "source": [
    "# Evaluate best model\n",
    "rmse = evaluate_model(best_model, X_valid, y_valid)\n",
    "print(f'RMSE: {rmse:.4f}')\n"
   ]
  },
  {
   "cell_type": "code",
   "execution_count": 7,
   "id": "1189b563-c7a4-4f10-8c4d-ec5ddd37fefa",
   "metadata": {},
   "outputs": [
    {
     "name": "stdout",
     "output_type": "stream",
     "text": [
      "Saved random_forest model to ../models/random_forest_model.pkl\n"
     ]
    }
   ],
   "source": [
    "# Save best model\n",
    "model_path = os.path.join('../models', f'{best_model_name}_model.pkl')\n",
    "os.makedirs(os.path.dirname(model_path), exist_ok=True)\n",
    "save_model(best_model, model_path)\n",
    "print(f'Saved {best_model_name} model to {model_path}')"
   ]
  },
  {
   "cell_type": "code",
   "execution_count": 8,
   "id": "9baab501-d157-414c-a80f-de470ed97ec9",
   "metadata": {},
   "outputs": [
    {
     "name": "stdout",
     "output_type": "stream",
     "text": [
      "Created alias for best model: ../models/best_model.pkl\n"
     ]
    }
   ],
   "source": [
    "best_model_alias_path = os.path.join('..', 'models', 'best_model.pkl')\n",
    "\n",
    "# Create a symbolic link to the best model\n",
    "if os.path.exists(best_model_alias_path):\n",
    "    os.remove(best_model_alias_path)\n",
    "os.symlink(os.path.basename(model_path), best_model_alias_path)\n",
    "\n",
    "print(f'Created alias for best model: {best_model_alias_path}')"
   ]
  },
  {
   "cell_type": "code",
   "execution_count": 9,
   "id": "7e381fcd-64e0-4fc7-a7f7-fb476e4ebc76",
   "metadata": {},
   "outputs": [
    {
     "name": "stdout",
     "output_type": "stream",
     "text": [
      "Saved ridge model to ../models/ridge_model.pkl\n",
      "Saved elastic_net model to ../models/elastic_net_model.pkl\n",
      "Saved random_forest model to ../models/random_forest_model.pkl\n",
      "Saved gradient_boosting model to ../models/gradient_boosting_model.pkl\n"
     ]
    }
   ],
   "source": [
    "# Save all models\n",
    "for model_name, model in models.items():\n",
    "    model_path = os.path.join('../models', f'{model_name}_model.pkl')\n",
    "    os.makedirs(os.path.dirname(model_path), exist_ok=True)\n",
    "    save_model(model, model_path)\n",
    "    print(f'Saved {model_name} model to {model_path}')"
   ]
  }
 ],
 "metadata": {
  "kernelspec": {
   "display_name": "Python [conda env:retrofits]",
   "language": "python",
   "name": "conda-env-retrofits-py"
  },
  "language_info": {
   "codemirror_mode": {
    "name": "ipython",
    "version": 3
   },
   "file_extension": ".py",
   "mimetype": "text/x-python",
   "name": "python",
   "nbconvert_exporter": "python",
   "pygments_lexer": "ipython3",
   "version": "3.12.11"
  }
 },
 "nbformat": 4,
 "nbformat_minor": 5
}
