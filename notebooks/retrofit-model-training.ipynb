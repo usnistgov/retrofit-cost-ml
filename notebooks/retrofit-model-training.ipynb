{
 "cells": [
  {
   "cell_type": "markdown",
   "id": "e042d84a-0227-45e8-8827-1b4a893daf4b",
   "metadata": {},
   "source": [
    "# Notebook documenting model training, selection, and saving pre-trained models"
   ]
  },
  {
   "cell_type": "code",
   "execution_count": null,
   "id": "df8cafe5-69d0-4625-b05e-e554aca05604",
   "metadata": {},
   "outputs": [],
   "source": [
    "import os\n",
    "from retrofit_cost_tool import load_data, preprocess_data, split_data, train_ridge_model, train_elastic_net_model, train_random_forest_model, train_gradient_boosting_model, evaluate_model, save_model, model_selection\n"
   ]
  },
  {
   "cell_type": "code",
   "execution_count": null,
   "id": "849f2bdb-f84d-4ddd-9d64-fe1a202e7a5a",
   "metadata": {},
   "outputs": [],
   "source": [
    "# Load training data\n",
    "file_path = '../data/srce_train.csv'\n",
    "data = load_data(file_path)"
   ]
  },
  {
   "cell_type": "code",
   "execution_count": null,
   "id": "14bec653-80a6-40bf-9eb3-1c774e6739f3",
   "metadata": {},
   "outputs": [],
   "source": [
    "# Preprocess data\n",
    "features_string = ['seismicity_pga050', 'p_obj_dummy', 'bldg_group_dummy', 'sp_dummy', 'occup_cond', 'historic_dummy']\n",
    "features_num = ['area', 'bldg_age', 'stories']\n",
    "target = 'ystruct19'\n",
    "X, y = preprocess_data(data, features_string, features_num, target)\n",
    "\n",
    "# Split data into training and validation sets\n",
    "X_train, X_valid, y_train, y_valid = split_data(X, y)\n"
   ]
  },
  {
   "cell_type": "code",
   "execution_count": null,
   "id": "a1a743ca-f729-4836-8828-872f562d7b9e",
   "metadata": {},
   "outputs": [],
   "source": [
    "# Train models\n",
    "models = {\n",
    "    'ridge': train_ridge_model(X_train, y_train),\n",
    "    'elastic_net': train_elastic_net_model(X_train, y_train),\n",
    "    'random_forest': train_random_forest_model(X_train, y_train),\n",
    "    'gradient_boosting': train_gradient_boosting_model(X_train, y_train)\n",
    "}\n",
    "\n",
    "# Model selection\n",
    "best_model_name, best_model = model_selection(models, X_train, y_train)\n",
    "print(f'Best model: {best_model_name}')\n"
   ]
  },
  {
   "cell_type": "code",
   "execution_count": null,
   "id": "f624f3b4-f73e-417f-8221-d4e138d6f8bb",
   "metadata": {},
   "outputs": [],
   "source": [
    "# Evaluate best model\n",
    "rmse = evaluate_model(best_model, X_valid, y_valid)\n",
    "print(f'RMSE: {rmse:.4f}')\n"
   ]
  },
  {
   "cell_type": "code",
   "execution_count": null,
   "id": "1189b563-c7a4-4f10-8c4d-ec5ddd37fefa",
   "metadata": {},
   "outputs": [],
   "source": [
    "# Save best model\n",
    "model_path = os.path.join('../models', f'{best_model_name}_model.pkl')\n",
    "os.makedirs(os.path.dirname(model_path), exist_ok=True)\n",
    "save_model(best_model, model_path)\n",
    "print(f'Saved {best_model_name} model to {model_path}')"
   ]
  },
  {
   "cell_type": "code",
   "execution_count": null,
   "id": "7e381fcd-64e0-4fc7-a7f7-fb476e4ebc76",
   "metadata": {},
   "outputs": [],
   "source": [
    "# Save all models\n",
    "for model_name, model in models.items():\n",
    "    model_path = os.path.join('../models', f'{model_name}_model.pkl')\n",
    "    os.makedirs(os.path.dirname(model_path), exist_ok=True)\n",
    "    save_model(model, model_path)\n",
    "    print(f'Saved {model_name} model to {model_path}')"
   ]
  }
 ],
 "metadata": {
  "kernelspec": {
   "display_name": "Python [conda env:retrofits]",
   "language": "python",
   "name": "conda-env-retrofits-py"
  },
  "language_info": {
   "codemirror_mode": {
    "name": "ipython",
    "version": 3
   },
   "file_extension": ".py",
   "mimetype": "text/x-python",
   "name": "python",
   "nbconvert_exporter": "python",
   "pygments_lexer": "ipython3",
   "version": "3.12.11"
  }
 },
 "nbformat": 4,
 "nbformat_minor": 5
}
