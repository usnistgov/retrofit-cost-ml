{
 "cells": [
  {
   "cell_type": "markdown",
   "id": "34f1e26b-da5c-4b54-a945-6cc113f4736a",
   "metadata": {},
   "source": [
    "# Notebook illustrating retrofit cost estimation with predictive models"
   ]
  },
  {
   "cell_type": "code",
   "execution_count": 1,
   "id": "6160ec5e-311d-4bd4-adc3-12b7407419ce",
   "metadata": {},
   "outputs": [],
   "source": [
    "# seismic_retrofit_cost_predictor.ipynb\n",
    "\n",
    "import sys\n",
    "import os\n",
    "#from data_utils import load_data, preprocess_data\n",
    "#from model_io import load_model\n",
    "# Add the parent directory to sys.path\n",
    "sys.path.insert(0, os.path.abspath(os.path.join(os.getcwd(), '..', 'src')))\n",
    "\n",
    "from data_utils import load_data, preprocess_data\n",
    "from model_io import load_model\n",
    "\n",
    "import ipywidgets as widgets\n",
    "from IPython.display import display\n"
   ]
  },
  {
   "cell_type": "code",
   "execution_count": 2,
   "id": "6965ee3e-ae32-4134-8a1a-08c1fbb84f11",
   "metadata": {},
   "outputs": [],
   "source": [
    "# Get the path to the data directory\n",
    "data_dir = os.path.abspath(os.path.join(os.getcwd(), '..', 'data'))\n",
    "\n",
    "# Load data from the data directory\n",
    "synthetic_data = load_data(os.path.join(data_dir, 'synthetic_data.csv'))"
   ]
  },
  {
   "cell_type": "code",
   "execution_count": 3,
   "id": "612ce06c-a347-499d-aa8b-fb704a73d27b",
   "metadata": {},
   "outputs": [
    {
     "name": "stdout",
     "output_type": "stream",
     "text": [
      "   seismicity_pga050  p_obj_dummy  bldg_group_dummy  sp_dummy  occup_cond  \\\n",
      "0                  0            1                 5         4           3   \n",
      "1                  3            2                 2        11           2   \n",
      "2                  0            1                 0         0           1   \n",
      "3                  2            2                 5         3           1   \n",
      "4                  3            0                 3         1           2   \n",
      "\n",
      "   historic_dummy    area  bldg_age  stories  ystruct19  \n",
      "0               0   14509        46        1   8.077504  \n",
      "1               0   38222        37        1  17.573217  \n",
      "2               0  341288        32        4   7.616414  \n",
      "3               2   51230        48        2  74.594776  \n",
      "4               0   38634        60        3  70.745681  \n"
     ]
    }
   ],
   "source": [
    "print(synthetic_data.head())"
   ]
  },
  {
   "cell_type": "code",
   "execution_count": 5,
   "id": "b354fa24-4950-4f24-8b52-dfb80b9fec2c",
   "metadata": {},
   "outputs": [],
   "source": [
    "# Specify the features used during training\n",
    "features_string = ['seismicity_pga050', 'p_obj_dummy', 'bldg_group_dummy', 'sp_dummy', 'occup_cond', 'historic_dummy']\n",
    "features_num = ['area', 'bldg_age', 'stories']\n",
    "\n",
    "# Create a file uploader widget\n",
    "file_uploader = widgets.FileUpload(\n",
    "    description='Upload data file',\n",
    "    accept='.csv'\n",
    ")\n",
    "\n",
    "# Create a dropdown widget for model selection\n",
    "model_selector = widgets.Dropdown(\n",
    "    options=['ridge', 'elastic_net', 'random_forest', 'gradient_boosting'],\n",
    "    value='ridge',\n",
    "    description='Select model:',\n",
    "    disabled=False\n",
    ")\n",
    "\n",
    "# Create a button widget to trigger prediction\n",
    "predict_button = widgets.Button(description='Make Predictions')\n",
    "\n",
    "# Define a function to load data and make predictions\n",
    "def make_predictions(file_uploader, model_selector):\n",
    "    # Load user data\n",
    "    file_path = list(file_uploader.value.keys())[0]\n",
    "    with open(file_path, 'wb') as f:\n",
    "        f.write(file_uploader.value[file_path]['content'])\n",
    "    \n",
    "    X_user = load_data(file_path)\n",
    "    X_user, _ = preprocess_data(X_user, features_string, features_num, target=None)\n",
    "    \n",
    "    # Load the trained model\n",
    "    model_name = model_selector.value\n",
    "    model_path = f'models/{model_name}_model.pkl'\n",
    "    model = load_model(model_path)\n",
    "    \n",
    "    # Make predictions\n",
    "    predictions = model.predict(X_user)\n",
    "    print(\"Predictions:\")\n",
    "    print(predictions)\n",
    "\n",
    "# Define a function to handle button click\n",
    "def on_button_click(b):\n",
    "    make_predictions(file_uploader, model_selector)\n",
    "\n",
    "# Link the button click to the on_button_click function\n",
    "predict_button.on_click(on_button_click)\n",
    "\n"
   ]
  },
  {
   "cell_type": "code",
   "execution_count": 6,
   "id": "4d4e9e97-43eb-41e6-8185-892063d7938b",
   "metadata": {},
   "outputs": [
    {
     "data": {
      "application/vnd.jupyter.widget-view+json": {
       "model_id": "80f4fff9f17d46c5bd52738118972d37",
       "version_major": 2,
       "version_minor": 0
      },
      "text/plain": [
       "FileUpload(value=(), accept='.csv', description='Upload data file')"
      ]
     },
     "metadata": {},
     "output_type": "display_data"
    },
    {
     "data": {
      "application/vnd.jupyter.widget-view+json": {
       "model_id": "1c0772be4726439db8b9b8cd13fd58b8",
       "version_major": 2,
       "version_minor": 0
      },
      "text/plain": [
       "Dropdown(description='Select model:', options=('ridge', 'elastic_net', 'random_forest', 'gradient_boosting'), …"
      ]
     },
     "metadata": {},
     "output_type": "display_data"
    },
    {
     "data": {
      "application/vnd.jupyter.widget-view+json": {
       "model_id": "c402f7c3b6d34a1bba2d3931ad743cf6",
       "version_major": 2,
       "version_minor": 0
      },
      "text/plain": [
       "Button(description='Make Predictions', style=ButtonStyle())"
      ]
     },
     "metadata": {},
     "output_type": "display_data"
    }
   ],
   "source": [
    "# Display the widgets\n",
    "display(file_uploader)\n",
    "display(model_selector)\n",
    "display(predict_button)"
   ]
  },
  {
   "cell_type": "code",
   "execution_count": 11,
   "id": "6bb132d3-becb-4a36-859c-b6199679fe72",
   "metadata": {},
   "outputs": [
    {
     "name": "stdout",
     "output_type": "stream",
     "text": [
      "Example usage:\n"
     ]
    },
    {
     "ename": "KeyError",
     "evalue": "None",
     "output_type": "error",
     "traceback": [
      "\u001b[31m---------------------------------------------------------------------------\u001b[39m",
      "\u001b[31mKeyError\u001b[39m                                  Traceback (most recent call last)",
      "\u001b[36mFile \u001b[39m\u001b[32m~/miniforge3/envs/retrofits/lib/python3.11/site-packages/pandas/core/indexes/base.py:3812\u001b[39m, in \u001b[36mIndex.get_loc\u001b[39m\u001b[34m(self, key)\u001b[39m\n\u001b[32m   3811\u001b[39m \u001b[38;5;28;01mtry\u001b[39;00m:\n\u001b[32m-> \u001b[39m\u001b[32m3812\u001b[39m     \u001b[38;5;28;01mreturn\u001b[39;00m \u001b[38;5;28;43mself\u001b[39;49m\u001b[43m.\u001b[49m\u001b[43m_engine\u001b[49m\u001b[43m.\u001b[49m\u001b[43mget_loc\u001b[49m\u001b[43m(\u001b[49m\u001b[43mcasted_key\u001b[49m\u001b[43m)\u001b[49m\n\u001b[32m   3813\u001b[39m \u001b[38;5;28;01mexcept\u001b[39;00m \u001b[38;5;167;01mKeyError\u001b[39;00m \u001b[38;5;28;01mas\u001b[39;00m err:\n",
      "\u001b[36mFile \u001b[39m\u001b[32mpandas/_libs/index.pyx:167\u001b[39m, in \u001b[36mpandas._libs.index.IndexEngine.get_loc\u001b[39m\u001b[34m()\u001b[39m\n",
      "\u001b[36mFile \u001b[39m\u001b[32mpandas/_libs/index.pyx:196\u001b[39m, in \u001b[36mpandas._libs.index.IndexEngine.get_loc\u001b[39m\u001b[34m()\u001b[39m\n",
      "\u001b[36mFile \u001b[39m\u001b[32mpandas/_libs/hashtable_class_helper.pxi:7088\u001b[39m, in \u001b[36mpandas._libs.hashtable.PyObjectHashTable.get_item\u001b[39m\u001b[34m()\u001b[39m\n",
      "\u001b[36mFile \u001b[39m\u001b[32mpandas/_libs/hashtable_class_helper.pxi:7096\u001b[39m, in \u001b[36mpandas._libs.hashtable.PyObjectHashTable.get_item\u001b[39m\u001b[34m()\u001b[39m\n",
      "\u001b[31mKeyError\u001b[39m: None",
      "\nThe above exception was the direct cause of the following exception:\n",
      "\u001b[31mKeyError\u001b[39m                                  Traceback (most recent call last)",
      "\u001b[36mCell\u001b[39m\u001b[36m \u001b[39m\u001b[32mIn[11]\u001b[39m\u001b[32m, line 4\u001b[39m\n\u001b[32m      2\u001b[39m \u001b[38;5;28mprint\u001b[39m(\u001b[33m\"\u001b[39m\u001b[33mExample usage:\u001b[39m\u001b[33m\"\u001b[39m)\n\u001b[32m      3\u001b[39m \u001b[38;5;66;03m#synthetic_data = load_data('data/synthetic_data.csv')\u001b[39;00m\n\u001b[32m----> \u001b[39m\u001b[32m4\u001b[39m X_synthetic, _ = \u001b[43mpreprocess_data\u001b[49m\u001b[43m(\u001b[49m\u001b[43msynthetic_data\u001b[49m\u001b[43m,\u001b[49m\u001b[43m \u001b[49m\u001b[43mfeatures_string\u001b[49m\u001b[43m,\u001b[49m\u001b[43m \u001b[49m\u001b[43mfeatures_num\u001b[49m\u001b[43m,\u001b[49m\u001b[43m \u001b[49m\u001b[43mtarget\u001b[49m\u001b[43m=\u001b[49m\u001b[38;5;28;43;01mNone\u001b[39;49;00m\u001b[43m)\u001b[49m\n\u001b[32m      5\u001b[39m model_name = \u001b[33m'\u001b[39m\u001b[33mridge\u001b[39m\u001b[33m'\u001b[39m\n\u001b[32m      6\u001b[39m model_path = \u001b[33mf\u001b[39m\u001b[33m'\u001b[39m\u001b[33mmodels/\u001b[39m\u001b[38;5;132;01m{\u001b[39;00mmodel_name\u001b[38;5;132;01m}\u001b[39;00m\u001b[33m_model.pkl\u001b[39m\u001b[33m'\u001b[39m\n",
      "\u001b[36mFile \u001b[39m\u001b[32m~/Library/CloudStorage/GoogleDrive-juan.fung@nist.gov/My Drive/urbana/Documents/misc/code/python/retrofits/retrofit-cost-tool/src/data_utils.py:18\u001b[39m, in \u001b[36mpreprocess_data\u001b[39m\u001b[34m(data, features_string, features_num, target)\u001b[39m\n\u001b[32m     16\u001b[39m \u001b[38;5;66;03m# Split data into features and target\u001b[39;00m\n\u001b[32m     17\u001b[39m X = data[features_string + features_num]\n\u001b[32m---> \u001b[39m\u001b[32m18\u001b[39m y = \u001b[43mdata\u001b[49m\u001b[43m[\u001b[49m\u001b[43mtarget\u001b[49m\u001b[43m]\u001b[49m\n\u001b[32m     20\u001b[39m \u001b[38;5;66;03m# Scale numerical variables\u001b[39;00m\n\u001b[32m     21\u001b[39m scaler = StandardScaler()\n",
      "\u001b[36mFile \u001b[39m\u001b[32m~/miniforge3/envs/retrofits/lib/python3.11/site-packages/pandas/core/frame.py:4107\u001b[39m, in \u001b[36mDataFrame.__getitem__\u001b[39m\u001b[34m(self, key)\u001b[39m\n\u001b[32m   4105\u001b[39m \u001b[38;5;28;01mif\u001b[39;00m \u001b[38;5;28mself\u001b[39m.columns.nlevels > \u001b[32m1\u001b[39m:\n\u001b[32m   4106\u001b[39m     \u001b[38;5;28;01mreturn\u001b[39;00m \u001b[38;5;28mself\u001b[39m._getitem_multilevel(key)\n\u001b[32m-> \u001b[39m\u001b[32m4107\u001b[39m indexer = \u001b[38;5;28;43mself\u001b[39;49m\u001b[43m.\u001b[49m\u001b[43mcolumns\u001b[49m\u001b[43m.\u001b[49m\u001b[43mget_loc\u001b[49m\u001b[43m(\u001b[49m\u001b[43mkey\u001b[49m\u001b[43m)\u001b[49m\n\u001b[32m   4108\u001b[39m \u001b[38;5;28;01mif\u001b[39;00m is_integer(indexer):\n\u001b[32m   4109\u001b[39m     indexer = [indexer]\n",
      "\u001b[36mFile \u001b[39m\u001b[32m~/miniforge3/envs/retrofits/lib/python3.11/site-packages/pandas/core/indexes/base.py:3819\u001b[39m, in \u001b[36mIndex.get_loc\u001b[39m\u001b[34m(self, key)\u001b[39m\n\u001b[32m   3814\u001b[39m     \u001b[38;5;28;01mif\u001b[39;00m \u001b[38;5;28misinstance\u001b[39m(casted_key, \u001b[38;5;28mslice\u001b[39m) \u001b[38;5;129;01mor\u001b[39;00m (\n\u001b[32m   3815\u001b[39m         \u001b[38;5;28misinstance\u001b[39m(casted_key, abc.Iterable)\n\u001b[32m   3816\u001b[39m         \u001b[38;5;129;01mand\u001b[39;00m \u001b[38;5;28many\u001b[39m(\u001b[38;5;28misinstance\u001b[39m(x, \u001b[38;5;28mslice\u001b[39m) \u001b[38;5;28;01mfor\u001b[39;00m x \u001b[38;5;129;01min\u001b[39;00m casted_key)\n\u001b[32m   3817\u001b[39m     ):\n\u001b[32m   3818\u001b[39m         \u001b[38;5;28;01mraise\u001b[39;00m InvalidIndexError(key)\n\u001b[32m-> \u001b[39m\u001b[32m3819\u001b[39m     \u001b[38;5;28;01mraise\u001b[39;00m \u001b[38;5;167;01mKeyError\u001b[39;00m(key) \u001b[38;5;28;01mfrom\u001b[39;00m\u001b[38;5;250m \u001b[39m\u001b[34;01merr\u001b[39;00m\n\u001b[32m   3820\u001b[39m \u001b[38;5;28;01mexcept\u001b[39;00m \u001b[38;5;167;01mTypeError\u001b[39;00m:\n\u001b[32m   3821\u001b[39m     \u001b[38;5;66;03m# If we have a listlike key, _check_indexing_error will raise\u001b[39;00m\n\u001b[32m   3822\u001b[39m     \u001b[38;5;66;03m#  InvalidIndexError. Otherwise we fall through and re-raise\u001b[39;00m\n\u001b[32m   3823\u001b[39m     \u001b[38;5;66;03m#  the TypeError.\u001b[39;00m\n\u001b[32m   3824\u001b[39m     \u001b[38;5;28mself\u001b[39m._check_indexing_error(key)\n",
      "\u001b[31mKeyError\u001b[39m: None"
     ]
    }
   ],
   "source": [
    "# Example usage\n",
    "print(\"Example usage:\")\n",
    "#synthetic_data = load_data('data/synthetic_data.csv')\n",
    "X_synthetic, _ = preprocess_data(synthetic_data, features_string, features_num, target=None)\n",
    "model_name = 'ridge'\n",
    "model_path = f'models/{model_name}_model.pkl'\n",
    "model = load_model(model_path)\n",
    "predictions = model.predict(X_synthetic)\n",
    "print(\"Predictions using synthetic data:\")\n",
    "print(predictions)"
   ]
  },
  {
   "cell_type": "code",
   "execution_count": null,
   "id": "8c42c6bc-e723-4ba9-9365-37b5c2cc3aea",
   "metadata": {},
   "outputs": [],
   "source": []
  }
 ],
 "metadata": {
  "kernelspec": {
   "display_name": "Python [conda env:retrofits]",
   "language": "python",
   "name": "conda-env-retrofits-py"
  },
  "language_info": {
   "codemirror_mode": {
    "name": "ipython",
    "version": 3
   },
   "file_extension": ".py",
   "mimetype": "text/x-python",
   "name": "python",
   "nbconvert_exporter": "python",
   "pygments_lexer": "ipython3",
   "version": "3.11.13"
  }
 },
 "nbformat": 4,
 "nbformat_minor": 5
}
