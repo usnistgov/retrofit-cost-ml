{
 "cells": [
  {
   "cell_type": "markdown",
   "id": "34f1e26b-da5c-4b54-a945-6cc113f4736a",
   "metadata": {},
   "source": [
    "# Notebook illustrating retrofit cost estimation with predictive models"
   ]
  },
  {
   "cell_type": "code",
   "execution_count": 1,
   "id": "6160ec5e-311d-4bd4-adc3-12b7407419ce",
   "metadata": {},
   "outputs": [],
   "source": [
    "import sys\n",
    "import os\n",
    "sys.path.insert(0, os.path.abspath(os.path.join(os.getcwd(), '..', 'src')))\n",
    "from retrofit_cost_tool import (load_data, preprocess_data, load_model,\n",
    "                                 train_ridge_model, train_elastic_net_model,\n",
    "                                 train_random_forest_model, train_gradient_boosting_model,\n",
    "                                 train_ols_model, train_glm_gamma_model,\n",
    "                                 model_selection)\n",
    "import pandas as pd\n",
    "import matplotlib.pyplot as plt\n",
    "import seaborn as sns\n",
    "import ipywidgets as widgets\n",
    "from IPython.display import display\n",
    "import numpy as np"
   ]
  },
  {
   "cell_type": "code",
   "execution_count": 3,
   "id": "b354fa24-4950-4f24-8b52-dfb80b9fec2c",
   "metadata": {
    "lines_to_next_cell": 2
   },
   "outputs": [],
   "source": [
    "# Specify the features used during training\n",
    "features_string = ['seismicity_pga050', 'p_obj_dummy', 'bldg_group_dummy', 'sp_dummy', 'occup_cond', 'historic_dummy']\n",
    "features_num = ['area', 'bldg_age', 'stories']\n",
    "\n",
    "# Create a file uploader widget\n",
    "file_uploader = widgets.FileUpload(\n",
    "    description='Upload data file',\n",
    "    accept='.csv'\n",
    ")\n",
    "\n",
    "alpha_grid = np.logspace(-3, 3, 100)\n",
    "l1_ratio_grid = np.linspace(0.1, 0.9, 10)\n",
    "n_estimators_grid = [100, 200, 300]\n",
    "max_depth_grid = [None, 5, 10]\n",
    "\n",
    "# Create a dictionary of model training functions\n",
    "model_train_funcs = {\n",
    "    'ols': (train_ols_model, ()),\n",
    "    'glm_gamma': (train_glm_gamma_model, ()),\n",
    "    'ridge': (train_ridge_model, (alpha_grid,)),\n",
    "    'elastic_net': (train_elastic_net_model, (alpha_grid, l1_ratio_grid)),\n",
    "    'random_forest': (train_random_forest_model, (n_estimators_grid, max_depth_grid)),\n",
    "    'gradient_boosting': (train_gradient_boosting_model, (n_estimators_grid, max_depth_grid))\n",
    "}\n",
    "\n",
    "# Create a dropdown widget for model selection\n",
    "model_selector = widgets.Dropdown(\n",
    "    options=list(model_train_funcs.keys()),\n",
    "    value='ridge',\n",
    "    description='Select model:',\n",
    "    disabled=False\n",
    ")\n",
    "\n",
    "# Create a button widget to trigger prediction\n",
    "predict_button = widgets.Button(description='Make Predictions')\n",
    "\n",
    "# Define a function to load data and make predictions\n",
    "def make_predictions(file_uploader, model_selector):\n",
    "    \"\"\"\n",
    "    Load user data, preprocess it, load a trained model, and make predictions.\n",
    "\n",
    "    Args:\n",
    "    - file_uploader (widgets.FileUpload): File uploader widget.\n",
    "    - model_selector (widgets.Dropdown): Dropdown widget for model selection.\n",
    "\n",
    "    Returns:\n",
    "    - None\n",
    "    \"\"\"\n",
    "    # Load user data\n",
    "    file_path = list(file_uploader.value.keys())[0]\n",
    "    with open(file_path, 'wb') as f:\n",
    "        f.write(file_uploader.value[file_path]['content'])\n",
    "\n",
    "    X_user = load_data(file_path)\n",
    "    X_user, _ = preprocess_data(X_user, features_string, features_num, target=None)\n",
    "\n",
    "    # Load the trained model\n",
    "    model_name = model_selector.value\n",
    "    model_path = os.path.join('..', 'models', f'{model_name}_model.pkl')\n",
    "    model = load_model(model_path)\n",
    "\n",
    "    # Make predictions\n",
    "    predictions = model.predict(X_user)\n",
    "    print(\"Predictions:\")\n",
    "    print(predictions)\n",
    "\n",
    "# Define a function to handle button click\n",
    "def on_button_click(b):\n",
    "    make_predictions(file_uploader, model_selector)\n",
    "\n",
    "# Link the button click to the on_button_click function\n",
    "predict_button.on_click(on_button_click)"
   ]
  },
  {
   "cell_type": "code",
   "execution_count": 4,
   "id": "4d4e9e97-43eb-41e6-8185-892063d7938b",
   "metadata": {},
   "outputs": [
    {
     "data": {
      "application/vnd.jupyter.widget-view+json": {
       "model_id": "1cd420c936774b69936e990c5b6ed266",
       "version_major": 2,
       "version_minor": 0
      },
      "text/plain": [
       "FileUpload(value=(), accept='.csv', description='Upload data file')"
      ]
     },
     "metadata": {},
     "output_type": "display_data"
    },
    {
     "data": {
      "application/vnd.jupyter.widget-view+json": {
       "model_id": "1bfb99321a6148c8afa48588a0ecfe5e",
       "version_major": 2,
       "version_minor": 0
      },
      "text/plain": [
       "Dropdown(description='Select model:', index=2, options=('ols', 'glm_gamma', 'ridge', 'elastic_net', 'random_fo…"
      ]
     },
     "metadata": {},
     "output_type": "display_data"
    },
    {
     "data": {
      "application/vnd.jupyter.widget-view+json": {
       "model_id": "70ef01807fff42aab9520f95cf3aa54b",
       "version_major": 2,
       "version_minor": 0
      },
      "text/plain": [
       "Button(description='Make Predictions', style=ButtonStyle())"
      ]
     },
     "metadata": {},
     "output_type": "display_data"
    }
   ],
   "source": [
    "# Display the widgets\n",
    "display(file_uploader)\n",
    "display(model_selector)\n",
    "display(predict_button)"
   ]
  },
  {
   "cell_type": "markdown",
   "id": "ec5909e2-3329-4258-8106-ba682afeb4db",
   "metadata": {},
   "source": [
    "## Predictions with user data"
   ]
  },
  {
   "cell_type": "code",
   "execution_count": 5,
   "id": "fa506a57-d444-4ff7-903c-e1950646ac5f",
   "metadata": {},
   "outputs": [
    {
     "name": "stdout",
     "output_type": "stream",
     "text": [
      "Example usage:\n",
      "Load synthetic data...\n"
     ]
    }
   ],
   "source": [
    "# Example usage\n",
    "print(\"Example usage:\")\n",
    "print(\"Load synthetic data...\")\n",
    "synthetic_data_path = os.path.join('..', 'data', 'synthetic_data.csv')\n",
    "synthetic_data = load_data(synthetic_data_path)"
   ]
  },
  {
   "cell_type": "code",
   "execution_count": 6,
   "id": "a07ae9c5-7f2d-4985-8cd8-e8fc8e1dbdff",
   "metadata": {},
   "outputs": [
    {
     "name": "stdout",
     "output_type": "stream",
     "text": [
      "   seismicity_pga050  p_obj_dummy  bldg_group_dummy  sp_dummy  occup_cond  \\\n",
      "0                  0            1                 5         4           3   \n",
      "1                  3            2                 2        11           2   \n",
      "2                  0            1                 0         0           1   \n",
      "3                  2            2                 5         3           1   \n",
      "4                  3            0                 3         1           2   \n",
      "\n",
      "   historic_dummy    area  bldg_age  stories  ystruct19  \n",
      "0               0   14509        46        1   8.077504  \n",
      "1               0   38222        37        1  17.573217  \n",
      "2               0  341288        32        4   7.616414  \n",
      "3               2   51230        48        2  74.594776  \n",
      "4               0   38634        60        3  70.745681  \n"
     ]
    }
   ],
   "source": [
    "print(synthetic_data.head())"
   ]
  },
  {
   "cell_type": "code",
   "execution_count": 7,
   "id": "6bb132d3-becb-4a36-859c-b6199679fe72",
   "metadata": {
    "scrolled": true
   },
   "outputs": [
    {
     "name": "stdout",
     "output_type": "stream",
     "text": [
      "Preprocess...\n",
      "Predictions using synthetic data:\n",
      "[ 35.36525502  44.2537619    9.28284763  37.28029883  51.57700635\n",
      "  53.85495687  23.54020969  46.42896486  34.12107406  47.3513974\n",
      "  34.32870691  76.45094185  42.58476518  23.62561922  43.51614783\n",
      "  57.40657426  37.28230432  51.619674    32.93566367  16.41775826\n",
      "  16.57526626  53.35240298  48.57030792  35.18396779  26.84181022\n",
      "  41.77173497  49.51351582  68.43070494  28.08336797  37.22947898\n",
      "  21.63991467  34.30924004  49.13341837  26.79757683  41.81120086\n",
      "  29.10394739  43.30253022   7.33182486  36.85865354  35.26338543\n",
      "  22.55351909  32.641633    50.78963808  58.9340251   19.7074805\n",
      "  30.92796752  37.37838741  43.81901517  38.36474353  32.32122622\n",
      "  61.49434167  54.74296865  30.84193452  43.01711295  32.99419538\n",
      "  20.16787112  17.65127093  46.96878838  54.87566252  43.34154333\n",
      "  42.25265248  10.83176364  40.75368891  43.23070376  37.18894892\n",
      "  24.07227938  69.08300107  57.90270482  37.90703435  78.00785578\n",
      "   9.63452629  18.81526396  59.25355792  17.26757596  49.14978628\n",
      "  73.45356954  35.09553383  16.91639504  59.16505293  41.75786558\n",
      "  40.90006524  14.48330789  26.75563225   9.31178513  23.49530646\n",
      "  40.53302416  30.32052632  12.82446596  34.37588658  13.14483669\n",
      "  29.29798807  31.144995    23.56416872  33.67930219  44.35416496\n",
      "  70.69028324  42.55448526  38.00946981  48.49561556  36.35679565\n",
      "  21.58484067  35.76635717  21.64324174  41.73841621  34.96112541\n",
      "  64.12917552  26.71128625  54.30534279  38.68465074  59.51552153\n",
      "  87.32604732  29.29813062  41.70042561  42.3192232   33.00992638\n",
      "  19.81600723  31.34827045  44.14890523  50.64917415  49.92490368\n",
      "  33.30935491  56.43489445  16.5934046   43.61141856  74.22258009\n",
      "  35.28876896  35.0364339   18.59127561  45.74423734  32.16965515\n",
      "  29.82421424  21.47018313  40.90306223  34.76717038  65.86356052\n",
      "  30.13348282  31.73938714  44.04106352  39.99115157  28.88536258\n",
      "  54.66670893  41.16301262  56.82129344  31.02981214  30.19733161\n",
      "  32.34143454  23.61690248  27.02995339  19.81588839  88.00970739\n",
      "  36.76312277  40.21354869  49.39278775  44.16939383  24.31929339\n",
      "   7.54689762  64.31307761  32.06995421  45.92899837  49.01817365\n",
      "  84.7472376   41.20301053  18.73047438  33.86443089  49.38804518\n",
      "  36.96401684  41.73901493  35.69985708  30.69490761  47.245502\n",
      "  50.54017406  37.20836218  47.45331506   8.84395819  43.33604346\n",
      "  39.94454922  34.17137815  35.36769778  41.82984336  41.62034015\n",
      "  79.61814866  44.16410255  46.54204964  32.08412449  42.85217581\n",
      "  33.71828659  20.84979155  59.66271566  38.4685535   37.70434918\n",
      "  39.74280074  26.99369421  37.49908131  49.95515435  69.44997088\n",
      "  18.3259094   57.89028629  45.46311049  25.34736827  36.8170277\n",
      "  30.29501363  17.35270753  40.41753189  19.83539868  77.29989279\n",
      "  13.95059817  23.9818856   50.65230135  48.96458356  36.88032007\n",
      "  66.02291137  27.83207016  32.46291738  56.77273925  44.71224171\n",
      "  35.9255217   19.20979645  37.57489866  44.73780681  28.82601493\n",
      "  22.9576992   65.59273701  42.93426272  18.5775208   44.45160603\n",
      "  61.40160389  31.93985355  23.94318116  48.86562477   8.2765154\n",
      "  40.45860241  50.88611083  43.23172726  17.49129053  23.53738423\n",
      "  30.39710863  59.34614451  62.7806941   36.41750395  42.78090611\n",
      "  35.52761586 -10.14106471  29.37160957  35.78159369  45.29191975\n",
      "  15.76476299  21.0101675   38.31877209  66.00401958  27.17175575\n",
      "  71.64353247  44.41404881  45.12167749  41.96270664  30.88546947\n",
      "  42.02799305  36.35807021  37.60093744  24.68145404  17.06864799\n",
      "  61.01796611  34.86133339  17.07676185  51.39284464  40.12985066\n",
      "  17.01330901  39.30777307  25.08193446  46.25064153  45.55021196\n",
      "  47.83589296  55.71138837  27.66489535  15.08455779  58.83089786\n",
      "   5.190748    51.11917849  42.66463511  40.80249286   3.08761987\n",
      "  38.75654755  22.150097    33.21823956  22.80820655  11.48355299\n",
      "  39.80495332  32.75823613  25.51465097  55.64616633  44.57417752\n",
      "  35.55493278  30.71313536  60.16351805  16.49302468  58.02083964\n",
      "  40.5706803   44.32528021  31.40674264  35.62822367  65.74583297\n",
      "   4.17864905  27.97125458  55.69047425  39.00831842  38.34511061\n",
      "  67.58168773  31.05455701  37.53209281   5.13300193  21.94525627\n",
      "  32.59482744  42.69736656   8.46095049  43.83834624  35.701768\n",
      "  65.39427196  26.81775745  33.00462347  29.94912181  18.08353705\n",
      "  31.37567435  24.13308451  58.27360227  42.49807439  76.99322176\n",
      "  46.88037781  35.22024596  28.16487387  43.27912811  42.50394198\n",
      "  47.31685674  44.47978208  29.37527702  23.18895143  21.39406657\n",
      "  47.45465834  37.54335365  42.04220112  49.03267376  36.65585527\n",
      "  25.33443012  51.78642765  48.33566639  36.00540542  51.52563354\n",
      "  45.75408735  62.16010487  36.94842926  32.05210001  23.85581726\n",
      "  39.60785954  18.14011972  65.42867303  21.66306165  51.376215\n",
      "  50.24077876  44.27002937  14.90222136  14.08939027  45.54629344\n",
      "  39.86944355  26.20814223  52.28789068  32.60514522  65.98620511\n",
      "  68.55955876  59.75557106  54.65279027  15.98999363  36.85818557\n",
      "  41.75941424  40.27914307  29.73724696  50.75124785  61.49659331\n",
      "  42.95913983  27.60135892  29.60677324  39.29744085  26.05888962\n",
      "  72.66558059  47.50426728  54.91316013  65.67271801  54.8437871\n",
      "  14.47531788  18.3385446   66.35609959  51.06572376  25.66022097\n",
      "  30.08710163  13.73795241  22.59445598  30.74808045  38.60033781\n",
      "  36.54671494   7.98238975  50.43834547  42.56467914  43.85942396\n",
      "  55.67718949  57.2286197   38.31996652  39.44197829  33.27741949\n",
      "  27.78791567  50.80854505  53.70149375  74.97728342  49.55320669\n",
      "  40.50959685  44.68188492  50.71779982  32.18202922  38.49199827\n",
      "  34.88814705  31.63559715  13.32886707  29.24976048  45.91066272\n",
      "  13.12375985  15.31930202  42.66779785  42.57938498  42.6550995\n",
      "  22.73249149  23.22382714  26.90282237  25.217222    24.00058528\n",
      "  76.50201014  17.07847287  45.25885775  15.38732538  44.18780417\n",
      "  32.2558091   40.84964423  11.85082516  15.85994638  26.90212295\n",
      "  38.56178765  30.91491429  24.4922348   41.85474545  11.02732378\n",
      "  26.14609169  25.20639873  51.10251376  56.44271143  35.49533997\n",
      "  11.98190692  19.72601249  40.49367602  19.25305435  54.31754807\n",
      "  75.45212365  43.08814086  53.59106796  48.31363126  28.43255847\n",
      "  74.16813189  51.02036978  22.28827611  41.90534912  58.03711422\n",
      "  45.53692348  53.27581529  47.18341335  57.77673539   6.57004545\n",
      "  33.08911027  46.54097771  20.80666806  29.97496846  50.76361784\n",
      "  48.04260962  25.94596393  47.29464519  41.31564143  63.0312281\n",
      "  47.10530357  30.57223011  34.18505091  41.1560979   42.87713009\n",
      "  22.09199142  45.75799459  28.21633511  16.02180482  27.6283216\n",
      "  40.25254326  30.40692176  51.45520506  40.3866028   30.75233715\n",
      "  75.83628972  25.48772525  41.67994981  46.33566857  54.97123592]\n"
     ]
    }
   ],
   "source": [
    "print(\"Preprocess...\")\n",
    "target = 'ystruct19'\n",
    "X_synthetic, _ = preprocess_data(synthetic_data, features_string, features_num, target=target)\n",
    "model_name = 'ridge'\n",
    "model_path = os.path.join('..', 'models', f'{model_name}_model.pkl')\n",
    "model = load_model(model_path)\n",
    "predictions = model.predict(X_synthetic)\n",
    "print(\"Predictions using synthetic data:\")\n",
    "print(predictions)"
   ]
  },
  {
   "cell_type": "code",
   "execution_count": 8,
   "id": "62421d29-7293-4908-a017-d41146091b41",
   "metadata": {},
   "outputs": [
    {
     "name": "stdout",
     "output_type": "stream",
     "text": [
      "Predicted vs Actual Values:\n",
      "     Predicted     Actual\n",
      "0    35.365255   8.077504\n",
      "1    44.253762  17.573217\n",
      "2     9.282848   7.616414\n",
      "3    37.280299  74.594776\n",
      "4    51.577006  70.745681\n",
      "..         ...        ...\n",
      "495  75.836290  59.507934\n",
      "496  25.487725  50.428959\n",
      "497  41.679950  53.754904\n",
      "498  46.335669  31.843634\n",
      "499  54.971236  98.963745\n",
      "\n",
      "[500 rows x 2 columns]\n"
     ]
    }
   ],
   "source": [
    "# Compare predicted and actual values\n",
    "actual_values = synthetic_data[target]\n",
    "predictions_df = pd.DataFrame({'Predicted': predictions, 'Actual': actual_values})\n",
    "print(\"Predicted vs Actual Values:\")\n",
    "print(predictions_df)"
   ]
  },
  {
   "cell_type": "markdown",
   "id": "1ef093a6-53dd-4c8a-ad44-7d1cd3f0702a",
   "metadata": {},
   "source": [
    "## Visualize actual vs predicted (if available)"
   ]
  },
  {
   "cell_type": "code",
   "execution_count": 9,
   "id": "8c42c6bc-e723-4ba9-9365-37b5c2cc3aea",
   "metadata": {},
   "outputs": [],
   "source": [
    "# Plot predicted vs actual values\n",
    "def plot_predictions(predictions_df, actual_values, plot_scatter=True, plot_histograms=True, save_plots=False):\n",
    "    \"\"\"\n",
    "    Plot predicted vs actual values.\n",
    "\n",
    "    Args:\n",
    "    - predictions_df (pd.DataFrame): DataFrame containing predicted and actual values.\n",
    "    - actual_values (array-like): Actual values.\n",
    "    - plot_scatter (bool, optional): Whether to plot a scatter plot. Defaults to True.\n",
    "    - plot_histograms (bool, optional): Whether to plot histograms. Defaults to True.\n",
    "    - save_plots (bool, optional): Whether to save the plots. Defaults to False.\n",
    "\n",
    "    Returns:\n",
    "    - None\n",
    "    \"\"\"\n",
    "    if plot_histograms:\n",
    "        sns.histplot(predictions_df['Predicted'], kde=True, label='Predicted Costs')\n",
    "        sns.histplot(actual_values, kde=True, label='Actual Costs', color='red')\n",
    "        plt.legend()\n",
    "        plt.title('Cost Predictions')\n",
    "        plt.xlabel('Cost')\n",
    "        plt.ylabel('Frequency')\n",
    "        if save_plots:\n",
    "            plt.savefig('cost_predictions.png', bbox_inches='tight', dpi=300)\n",
    "        plt.show()\n",
    "\n",
    "    if plot_scatter:\n",
    "        plt.scatter(actual_values, predictions_df['Predicted'])\n",
    "        plt.xlabel('Actual Values')\n",
    "        plt.ylabel('Predicted Values')\n",
    "        plt.title('Predicted vs Actual Values')\n",
    "        if save_plots:\n",
    "            plt.savefig('predicted_vs_actual.png', bbox_inches='tight', dpi=300)\n",
    "        plt.show()"
   ]
  },
  {
   "cell_type": "code",
   "execution_count": 10,
   "id": "f46070fe-c61a-4822-b81b-11ffb42453a2",
   "metadata": {},
   "outputs": [
    {
     "data": {
      "image/png": "[encoded data removed]",
      "text/plain": [
       "<Figure size 640x480 with 1 Axes>"
      ]
     },
     "metadata": {},
     "output_type": "display_data"
    },
    {
     "data": {
      "image/png": "[encoded data removed]",
      "text/plain": [
       "<Figure size 640x480 with 1 Axes>"
      ]
     },
     "metadata": {},
     "output_type": "display_data"
    }
   ],
   "source": [
    "# for synthetic user data with actual values, plot actual vs predicted\n",
    "\n",
    "# Call the function with save_plots=True\n",
    "plot_predictions(predictions_df, actual_values, save_plots=True)"
   ]
  },
  {
   "cell_type": "code",
   "execution_count": null,
   "id": "d54a2cc1-0dda-4c62-a367-7c3d9d6da1f8",
   "metadata": {},
   "outputs": [],
   "source": []
  },
  {
   "cell_type": "code",
   "execution_count": null,
   "id": "c5a64d68-4f4d-4932-afc1-06f4cfc2278f",
   "metadata": {},
   "outputs": [],
   "source": []
  },
  {
   "cell_type": "markdown",
   "id": "f13e4928-251f-4667-a4d1-b3c7325e5b1f",
   "metadata": {},
   "source": [
    "# Calling `predict()` directly..."
   ]
  },
  {
   "cell_type": "code",
   "execution_count": 11,
   "id": "b975fa90-6333-43a0-901b-020431c954c4",
   "metadata": {},
   "outputs": [],
   "source": [
    "from retrofit_cost_tool.predict import predict"
   ]
  },
  {
   "cell_type": "code",
   "execution_count": 13,
   "id": "a6880f5e-0736-407b-9335-886e08caecb9",
   "metadata": {},
   "outputs": [],
   "source": [
    "# Define a function to handle button click\n",
    "def on_button_click(b):\n",
    "    file_path = list(file_uploader.value.keys())[0]\n",
    "    with open(file_path, 'wb') as f:\n",
    "        f.write(file_uploader.value[file_path]['content'])\n",
    "    predict(file_path=file_path, model_name=model_selector.value)\n",
    "\n"
   ]
  },
  {
   "cell_type": "code",
   "execution_count": 14,
   "id": "c8be4fe2-18b8-4333-8fa0-43052af59ef0",
   "metadata": {},
   "outputs": [],
   "source": [
    "# Link the button click to the on_button_click function\n",
    "predict_button.on_click(on_button_click)"
   ]
  },
  {
   "cell_type": "code",
   "execution_count": 15,
   "id": "bfb268d8-b2e6-423a-814e-14f4e3ed51b1",
   "metadata": {
    "editable": true,
    "slideshow": {
     "slide_type": ""
    },
    "tags": []
   },
   "outputs": [
    {
     "data": {
      "application/vnd.jupyter.widget-view+json": {
       "model_id": "1cd420c936774b69936e990c5b6ed266",
       "version_major": 2,
       "version_minor": 0
      },
      "text/plain": [
       "FileUpload(value=(), accept='.csv', description='Upload data file')"
      ]
     },
     "metadata": {},
     "output_type": "display_data"
    },
    {
     "data": {
      "application/vnd.jupyter.widget-view+json": {
       "model_id": "1bfb99321a6148c8afa48588a0ecfe5e",
       "version_major": 2,
       "version_minor": 0
      },
      "text/plain": [
       "Dropdown(description='Select model:', index=2, options=('ols', 'glm_gamma', 'ridge', 'elastic_net', 'random_fo…"
      ]
     },
     "metadata": {},
     "output_type": "display_data"
    },
    {
     "data": {
      "application/vnd.jupyter.widget-view+json": {
       "model_id": "70ef01807fff42aab9520f95cf3aa54b",
       "version_major": 2,
       "version_minor": 0
      },
      "text/plain": [
       "Button(description='Make Predictions', style=ButtonStyle())"
      ]
     },
     "metadata": {},
     "output_type": "display_data"
    }
   ],
   "source": [
    "# Display the widgets\n",
    "display(file_uploader)\n",
    "display(model_selector)\n",
    "display(predict_button)"
   ]
  },
  {
   "cell_type": "code",
   "execution_count": null,
   "id": "6c5da551-ef05-4385-aae7-3ed66ec37148",
   "metadata": {},
   "outputs": [],
   "source": []
  }
 ],
 "metadata": {
  "jupytext": {
   "formats": "ipynb,py:percent"
  },
  "kernelspec": {
   "display_name": "Python [conda env:retrofits]",
   "language": "python",
   "name": "conda-env-retrofits-py"
  },
  "language_info": {
   "codemirror_mode": {
    "name": "ipython",
    "version": 3
   },
   "file_extension": ".py",
   "mimetype": "text/x-python",
   "name": "python",
   "nbconvert_exporter": "python",
   "pygments_lexer": "ipython3",
   "version": "3.12.11"
  }
 },
 "nbformat": 4,
 "nbformat_minor": 5
}
