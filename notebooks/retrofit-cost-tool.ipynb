{
 "cells": [
  {
   "cell_type": "markdown",
   "id": "34f1e26b-da5c-4b54-a945-6cc113f4736a",
   "metadata": {},
   "source": [
    "# Notebook illustrating retrofit cost estimation with predictive models"
   ]
  },
  {
   "cell_type": "code",
   "execution_count": null,
   "id": "6160ec5e-311d-4bd4-adc3-12b7407419ce",
   "metadata": {},
   "outputs": [],
   "source": [
    "import sys\n",
    "import os\n",
    "sys.path.insert(0, os.path.abspath(os.path.join(os.getcwd(), '..', 'src')))\n",
    "\n",
    "from retrofit_cost_tool import load_data, preprocess_data, load_model\n",
    "import ipywidgets as widgets\n",
    "from IPython.display import display"
   ]
  },
  {
   "cell_type": "code",
   "execution_count": null,
   "id": "b354fa24-4950-4f24-8b52-dfb80b9fec2c",
   "metadata": {},
   "outputs": [],
   "source": [
    "# Specify the features used during training\n",
    "features_string = ['seismicity_pga050', 'p_obj_dummy', 'bldg_group_dummy', 'sp_dummy', 'occup_cond', 'historic_dummy']\n",
    "features_num = ['area', 'bldg_age', 'stories']\n",
    "\n",
    "# Create a file uploader widget\n",
    "file_uploader = widgets.FileUpload(\n",
    "    description='Upload data file',\n",
    "    accept='.csv'\n",
    ")\n",
    "\n",
    "# Create a dropdown widget for model selection\n",
    "model_selector = widgets.Dropdown(\n",
    "    options=['ridge', 'elastic_net', 'random_forest', 'gradient_boosting'],\n",
    "    value='ridge',\n",
    "    description='Select model:',\n",
    "    disabled=False\n",
    ")\n",
    "\n",
    "# Create a button widget to trigger prediction\n",
    "predict_button = widgets.Button(description='Make Predictions')\n",
    "\n",
    "# Define a function to load data and make predictions\n",
    "def make_predictions(file_uploader, model_selector):\n",
    "    # Load user data\n",
    "    file_path = list(file_uploader.value.keys())[0]\n",
    "    with open(file_path, 'wb') as f:\n",
    "        f.write(file_uploader.value[file_path]['content'])\n",
    "    \n",
    "    X_user = load_data(file_path)\n",
    "    X_user, _ = preprocess_data(X_user, features_string, features_num, target=None)\n",
    "    \n",
    "    # Load the trained model\n",
    "    model_name = model_selector.value\n",
    "    model_path = os.path.join('..', 'models', f'{model_name}_model.pkl')\n",
    "    model = load_model(model_path)\n",
    "    \n",
    "    # Make predictions\n",
    "    predictions = model.predict(X_user)\n",
    "    print(\"Predictions:\")\n",
    "    print(predictions)\n",
    "\n",
    "# Define a function to handle button click\n",
    "def on_button_click(b):\n",
    "    make_predictions(file_uploader, model_selector)\n",
    "\n",
    "# Link the button click to the on_button_click function\n",
    "predict_button.on_click(on_button_click)\n"
   ]
  },
  {
   "cell_type": "code",
   "execution_count": null,
   "id": "4d4e9e97-43eb-41e6-8185-892063d7938b",
   "metadata": {},
   "outputs": [],
   "source": [
    "# Display the widgets\n",
    "display(file_uploader)\n",
    "display(model_selector)\n",
    "display(predict_button)"
   ]
  },
  {
   "cell_type": "code",
   "execution_count": null,
   "id": "6bb132d3-becb-4a36-859c-b6199679fe72",
   "metadata": {},
   "outputs": [],
   "source": [
    "# Example usage\n",
    "print(\"Example usage:\")\n",
    "synthetic_data_path = os.path.join('..', 'data', 'synthetic_data.csv')\n",
    "synthetic_data = load_data(synthetic_data_path)\n",
    "X_synthetic, _ = preprocess_data(synthetic_data, features_string, features_num, target=None)\n",
    "model_name = 'ridge'\n",
    "model_path = os.path.join('..', 'models', f'{model_name}_model.pkl')\n",
    "model = load_model(model_path)\n",
    "predictions = model.predict(X_synthetic)\n",
    "print(\"Predictions using synthetic data:\")\n",
    "print(predictions)"
   ]
  },
  {
   "cell_type": "code",
   "execution_count": null,
   "id": "8c42c6bc-e723-4ba9-9365-37b5c2cc3aea",
   "metadata": {},
   "outputs": [],
   "source": []
  }
 ],
 "metadata": {
  "kernelspec": {
   "display_name": "Python [conda env:retrofits]",
   "language": "python",
   "name": "conda-env-retrofits-py"
  },
  "language_info": {
   "codemirror_mode": {
    "name": "ipython",
    "version": 3
   },
   "file_extension": ".py",
   "mimetype": "text/x-python",
   "name": "python",
   "nbconvert_exporter": "python",
   "pygments_lexer": "ipython3",
   "version": "3.11.13"
  }
 },
 "nbformat": 4,
 "nbformat_minor": 5
}
