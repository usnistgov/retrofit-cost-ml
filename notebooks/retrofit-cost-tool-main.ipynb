{
 "cells": [
  {
   "cell_type": "markdown",
   "id": "5378d71c-0390-4e5d-9253-a5fcb1c49553",
   "metadata": {},
   "source": [
    "# Retrofit cost estimation tool: Model training and selection"
   ]
  },
  {
   "cell_type": "code",
   "execution_count": 1,
   "id": "5bc4f99a-e5ce-4b40-9b31-18052249dd1d",
   "metadata": {},
   "outputs": [],
   "source": [
    "%load_ext autoreload\n",
    "%autoreload 2"
   ]
  },
  {
   "cell_type": "code",
   "execution_count": 2,
   "id": "de9e62e0-4c64-40f0-8293-6855c482016c",
   "metadata": {},
   "outputs": [],
   "source": [
    "import sys\n",
    "import os\n",
    "sys.path.insert(0, os.path.abspath(os.path.join(os.getcwd(), '..', 'src')))\n",
    "\n",
    "from retrofit_cost_tool import main\n",
    "from retrofit_cost_tool.model_utils import evaluate_model\n",
    "\n",
    "import warnings\n",
    "from sklearn.exceptions import ConvergenceWarning\n",
    "\n",
    "warnings.filterwarnings(\"ignore\", category=ConvergenceWarning)"
   ]
  },
  {
   "cell_type": "code",
   "execution_count": 3,
   "id": "6dc0e14c-d642-4e91-b810-f8fe954ef0fd",
   "metadata": {},
   "outputs": [
    {
     "name": "stdout",
     "output_type": "stream",
     "text": [
      "Evaluating ols...\n",
      "Ols RMSE: 44.5885\n",
      "Evaluating glm_gamma...\n",
      "Glm_gamma RMSE: 44.4346\n",
      "Evaluating ridge...\n",
      "Ridge RMSE: 44.4549\n",
      "Evaluating elastic_net...\n",
      "Elastic_net RMSE: 44.4468\n",
      "Evaluating random_forest...\n",
      "Random_forest RMSE: 41.8358\n",
      "Evaluating gradient_boosting...\n",
      "Gradient_boosting RMSE: 42.3117\n",
      "Best model: random_forest\n",
      "RMSE: 35.1112, MAE: 23.4289, MAPE: 213.40%\n"
     ]
    }
   ],
   "source": [
    "best_model_name, best_model, model_metrics, X_valid, y_valid = main(verbose=True, save_models=False, save_metrics=False)"
   ]
  },
  {
   "cell_type": "code",
   "execution_count": 4,
   "id": "3c8fd72a-574d-4d5f-b750-abd65bab6017",
   "metadata": {
    "scrolled": true
   },
   "outputs": [
    {
     "name": "stdout",
     "output_type": "stream",
     "text": [
      "Best model: random_forest\n",
      "RMSE: 35.1112, MAE: 23.4289, MAPE: 213.40%\n"
     ]
    }
   ],
   "source": [
    "# Explore the best model metrics or performance on holdout set\n",
    "print(f'Best model: {best_model_name}')\n",
    "rmse, mae, mape = evaluate_model(best_model, X_valid, y_valid)\n",
    "print(f'RMSE: {rmse:.4f}, MAE: {mae:.4f}, MAPE: {mape:.2f}%')"
   ]
  },
  {
   "cell_type": "code",
   "execution_count": null,
   "id": "060c6725-a997-40a0-b270-70230d840dd5",
   "metadata": {},
   "outputs": [],
   "source": []
  },
  {
   "cell_type": "code",
   "execution_count": null,
   "id": "268d905a-e069-478f-8821-d4a6036fc2c2",
   "metadata": {},
   "outputs": [],
   "source": []
  }
 ],
 "metadata": {
  "jupytext": {
   "formats": "ipynb,auto:percent"
  },
  "kernelspec": {
   "display_name": "Python [conda env:retrofits]",
   "language": "python",
   "name": "conda-env-retrofits-py"
  },
  "language_info": {
   "codemirror_mode": {
    "name": "ipython",
    "version": 3
   },
   "file_extension": ".py",
   "mimetype": "text/x-python",
   "name": "python",
   "nbconvert_exporter": "python",
   "pygments_lexer": "ipython3",
   "version": "3.12.11"
  }
 },
 "nbformat": 4,
 "nbformat_minor": 5
}
